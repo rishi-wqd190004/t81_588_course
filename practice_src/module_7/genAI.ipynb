{
 "cells": [
  {
   "cell_type": "markdown",
   "metadata": {},
   "source": [
    "### Generative AI\n",
    "\n",
    "#### Stable Diffusion:\n",
    "    - Diffusion based probabilistic model\n",
    "    - model predict the next diffusion step in the reverse process from a given state"
   ]
  },
  {
   "cell_type": "code",
   "execution_count": 10,
   "metadata": {},
   "outputs": [
    {
     "name": "stdout",
     "output_type": "stream",
     "text": [
      "Renamed: 4766efc5-0e3b-46fe-a7c3-fd46107d2b63.JPG to 1.jpg\n",
      "Renamed: 0663e8e2-b8f3-4d0e-b028-4ff1c354f34d.JPG to 2.jpg\n",
      "Renamed: 389f255b-a037-432a-9cf1-247e0e02b867.JPG to 3.jpg\n",
      "Renamed: .DS_Store to 4.jpg\n",
      "Renamed: b9acfc9a-678a-4696-a534-38f24bbd5611.JPG to 5.jpg\n",
      "Renamed: f7c92e24-a2ac-4092-b97f-4acefe0d62d9.JPG to 6.jpg\n",
      "Renamed: 3dbf8ede-9228-4761-8985-1a66a5caa94f.JPG to 7.jpg\n",
      "Renamed: f456cc94-7766-4ace-9339-58d221adc731.JPG to 8.jpg\n",
      "Renamed: 15.JPG to 9.jpg\n",
      "Renamed: fd3f2489-d851-4643-9594-d426a0080c4f.JPG to 10.jpg\n",
      "Renamed: be67a442-09fe-4ed8-b51d-4ccc4f458122.JPG to 11.jpg\n",
      "Renamed: fa012fe5-aea4-4051-9f50-fee43f738ac4.JPG to 12.jpg\n",
      "Renamed: 56b78aec-7534-45c7-8bc8-acbd08333428.JPG to 13.jpg\n",
      "Renamed: f95449b9-9e38-414e-9e63-d82e9123d458.JPG to 14.jpg\n",
      "Renamed: 22e127b3-5375-49ce-8a8f-087bcb6c9ce6.JPG to 15.jpg\n",
      "Renamed: 640d12b3-eb5b-4f00-84d1-858d5af7a508.JPG to 16.jpg\n",
      "Renamed: 5436dce9-3003-4b68-b96a-601f073e8a02.JPG to 17.jpg\n",
      "Renamed: 3a75f1fe-8155-4787-81a0-7d2290987769.JPG to 18.jpg\n",
      "Renamed: be6ed074-9c03-4b08-876f-8b1d965634e6.JPG to 19.jpg\n",
      "Renamed: 044ab7fd-0d39-4503-9986-4a915844f87e.JPG to 20.jpg\n",
      "Renamed: 4.JPG to 21.jpg\n",
      "Renamed: 1ec80d52-dda7-4572-9bbd-85a0b3c050f9.JPG to 22.jpg\n",
      "Renamed: 714bdc92-d4e1-4a16-b123-264a8ed3f576.JPG to 23.jpg\n",
      "Renamed: c4e7dddb-207b-4694-a6ff-702b0f031a27.JPG to 24.jpg\n",
      "Renamed: 9429f56f-eb89-4d87-a246-0ce9c5db9094.JPG to 25.jpg\n",
      "Renamed: 679f6767-c4c9-4605-afdf-328015c458d6.JPG to 26.jpg\n"
     ]
    }
   ],
   "source": [
    "import os\n",
    "\n",
    "path = '/Users/rishinigam/t81_588_course/datasets/old_pics'\n",
    "\n",
    "files = os.listdir(path)\n",
    "for idx, file_name in enumerate(files):\n",
    "    new_name = f\"{idx + 1}.jpg\"\n",
    "\n",
    "        # Full paths for old and new names\n",
    "    old_path = os.path.join(path, file_name)\n",
    "    new_path = os.path.join(path, new_name)\n",
    "\n",
    "    # Rename the file\n",
    "    os.rename(old_path, new_path)\n",
    "    print(f\"Renamed: {file_name} to {new_name}\")"
   ]
  },
  {
   "cell_type": "code",
   "execution_count": null,
   "metadata": {},
   "outputs": [],
   "source": []
  }
 ],
 "metadata": {
  "kernelspec": {
   "display_name": "torch_new_venv",
   "language": "python",
   "name": "python3"
  },
  "language_info": {
   "codemirror_mode": {
    "name": "ipython",
    "version": 3
   },
   "file_extension": ".py",
   "mimetype": "text/x-python",
   "name": "python",
   "nbconvert_exporter": "python",
   "pygments_lexer": "ipython3",
   "version": "3.10.12"
  }
 },
 "nbformat": 4,
 "nbformat_minor": 2
}
