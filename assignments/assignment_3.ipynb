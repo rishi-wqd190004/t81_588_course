{
 "cells": [
  {
   "cell_type": "code",
   "execution_count": 1,
   "metadata": {},
   "outputs": [],
   "source": [
    "import pandas as pd\n",
    "import numpy as np\n",
    "\n",
    "from sklearn.preprocessing import LabelEncoder, StandardScaler\n",
    "\n",
    "import tqdm\n",
    "import torch\n",
    "from torch import nn\n",
    "from torch.utils.data import DataLoader, TensorDataset"
   ]
  },
  {
   "cell_type": "markdown",
   "metadata": {},
   "source": [
    "For this assignment you must complete the following.\n",
    "\n",
    "- Write a classification neural network that predicts the probability of either \"+\" or \"-\" for the column a16.\n",
    "\n",
    "- Use early stopping to know when to complete your training.\n",
    "- For all columns that are categorical, you must convert them to dummy variables.\n",
    "- Some columns have missing values, fill these missing values with the median of that column.\n",
    "- This is a simple neural network using basic techniques, do not worry too much about overall accuracy.\n",
    "- Predict/submit for the entire dataset that I gave you, training and validation, you should have the same number of rows as crx.csv (690 data and 1 header row)."
   ]
  },
  {
   "cell_type": "code",
   "execution_count": 2,
   "metadata": {},
   "outputs": [],
   "source": [
    "df_ = pd.read_csv('/Users/rishinigam/t81_588_course/datasets/crx.csv')"
   ]
  },
  {
   "cell_type": "code",
   "execution_count": 3,
   "metadata": {},
   "outputs": [],
   "source": [
    "df = df_.copy()"
   ]
  },
  {
   "cell_type": "code",
   "execution_count": 4,
   "metadata": {},
   "outputs": [
    {
     "data": {
      "text/html": [
       "<div>\n",
       "<style scoped>\n",
       "    .dataframe tbody tr th:only-of-type {\n",
       "        vertical-align: middle;\n",
       "    }\n",
       "\n",
       "    .dataframe tbody tr th {\n",
       "        vertical-align: top;\n",
       "    }\n",
       "\n",
       "    .dataframe thead th {\n",
       "        text-align: right;\n",
       "    }\n",
       "</style>\n",
       "<table border=\"1\" class=\"dataframe\">\n",
       "  <thead>\n",
       "    <tr style=\"text-align: right;\">\n",
       "      <th></th>\n",
       "      <th>a1</th>\n",
       "      <th>a2</th>\n",
       "      <th>s3</th>\n",
       "      <th>a4</th>\n",
       "      <th>a5</th>\n",
       "      <th>a6</th>\n",
       "      <th>a7</th>\n",
       "      <th>a8</th>\n",
       "      <th>a9</th>\n",
       "      <th>a10</th>\n",
       "      <th>a11</th>\n",
       "      <th>a12</th>\n",
       "      <th>a13</th>\n",
       "      <th>a14</th>\n",
       "      <th>a15</th>\n",
       "      <th>a16</th>\n",
       "    </tr>\n",
       "  </thead>\n",
       "  <tbody>\n",
       "    <tr>\n",
       "      <th>0</th>\n",
       "      <td>b</td>\n",
       "      <td>30.83</td>\n",
       "      <td>0.000</td>\n",
       "      <td>u</td>\n",
       "      <td>g</td>\n",
       "      <td>w</td>\n",
       "      <td>v</td>\n",
       "      <td>1.25</td>\n",
       "      <td>t</td>\n",
       "      <td>t</td>\n",
       "      <td>1</td>\n",
       "      <td>f</td>\n",
       "      <td>g</td>\n",
       "      <td>00202</td>\n",
       "      <td>0</td>\n",
       "      <td>+</td>\n",
       "    </tr>\n",
       "    <tr>\n",
       "      <th>1</th>\n",
       "      <td>a</td>\n",
       "      <td>58.67</td>\n",
       "      <td>4.460</td>\n",
       "      <td>u</td>\n",
       "      <td>g</td>\n",
       "      <td>q</td>\n",
       "      <td>h</td>\n",
       "      <td>3.04</td>\n",
       "      <td>t</td>\n",
       "      <td>t</td>\n",
       "      <td>6</td>\n",
       "      <td>f</td>\n",
       "      <td>g</td>\n",
       "      <td>00043</td>\n",
       "      <td>560</td>\n",
       "      <td>+</td>\n",
       "    </tr>\n",
       "    <tr>\n",
       "      <th>2</th>\n",
       "      <td>a</td>\n",
       "      <td>24.50</td>\n",
       "      <td>0.500</td>\n",
       "      <td>u</td>\n",
       "      <td>g</td>\n",
       "      <td>q</td>\n",
       "      <td>h</td>\n",
       "      <td>1.50</td>\n",
       "      <td>t</td>\n",
       "      <td>f</td>\n",
       "      <td>0</td>\n",
       "      <td>f</td>\n",
       "      <td>g</td>\n",
       "      <td>00280</td>\n",
       "      <td>824</td>\n",
       "      <td>+</td>\n",
       "    </tr>\n",
       "    <tr>\n",
       "      <th>3</th>\n",
       "      <td>b</td>\n",
       "      <td>27.83</td>\n",
       "      <td>1.540</td>\n",
       "      <td>u</td>\n",
       "      <td>g</td>\n",
       "      <td>w</td>\n",
       "      <td>v</td>\n",
       "      <td>3.75</td>\n",
       "      <td>t</td>\n",
       "      <td>t</td>\n",
       "      <td>5</td>\n",
       "      <td>t</td>\n",
       "      <td>g</td>\n",
       "      <td>00100</td>\n",
       "      <td>3</td>\n",
       "      <td>+</td>\n",
       "    </tr>\n",
       "    <tr>\n",
       "      <th>4</th>\n",
       "      <td>b</td>\n",
       "      <td>20.17</td>\n",
       "      <td>5.625</td>\n",
       "      <td>u</td>\n",
       "      <td>g</td>\n",
       "      <td>w</td>\n",
       "      <td>v</td>\n",
       "      <td>1.71</td>\n",
       "      <td>t</td>\n",
       "      <td>f</td>\n",
       "      <td>0</td>\n",
       "      <td>f</td>\n",
       "      <td>s</td>\n",
       "      <td>00120</td>\n",
       "      <td>0</td>\n",
       "      <td>+</td>\n",
       "    </tr>\n",
       "  </tbody>\n",
       "</table>\n",
       "</div>"
      ],
      "text/plain": [
       "  a1     a2     s3 a4 a5 a6 a7    a8 a9 a10  a11 a12 a13    a14  a15 a16\n",
       "0  b  30.83  0.000  u  g  w  v  1.25  t   t    1   f   g  00202    0   +\n",
       "1  a  58.67  4.460  u  g  q  h  3.04  t   t    6   f   g  00043  560   +\n",
       "2  a  24.50  0.500  u  g  q  h  1.50  t   f    0   f   g  00280  824   +\n",
       "3  b  27.83  1.540  u  g  w  v  3.75  t   t    5   t   g  00100    3   +\n",
       "4  b  20.17  5.625  u  g  w  v  1.71  t   f    0   f   s  00120    0   +"
      ]
     },
     "execution_count": 4,
     "metadata": {},
     "output_type": "execute_result"
    }
   ],
   "source": [
    "df.head()"
   ]
  },
  {
   "cell_type": "code",
   "execution_count": 5,
   "metadata": {},
   "outputs": [],
   "source": [
    "# editing variables for further processing\n",
    "df['a16'] = df['a16'].replace('+',1)\n",
    "df['a16'] = df['a16'].replace('-',0)"
   ]
  },
  {
   "cell_type": "code",
   "execution_count": 6,
   "metadata": {},
   "outputs": [
    {
     "name": "stdout",
     "output_type": "stream",
     "text": [
      "<class 'pandas.core.frame.DataFrame'>\n",
      "RangeIndex: 690 entries, 0 to 689\n",
      "Data columns (total 16 columns):\n",
      " #   Column  Non-Null Count  Dtype  \n",
      "---  ------  --------------  -----  \n",
      " 0   a1      690 non-null    object \n",
      " 1   a2      690 non-null    object \n",
      " 2   s3      690 non-null    float64\n",
      " 3   a4      690 non-null    object \n",
      " 4   a5      690 non-null    object \n",
      " 5   a6      690 non-null    object \n",
      " 6   a7      690 non-null    object \n",
      " 7   a8      690 non-null    float64\n",
      " 8   a9      690 non-null    object \n",
      " 9   a10     690 non-null    object \n",
      " 10  a11     690 non-null    int64  \n",
      " 11  a12     690 non-null    object \n",
      " 12  a13     690 non-null    object \n",
      " 13  a14     690 non-null    object \n",
      " 14  a15     690 non-null    int64  \n",
      " 15  a16     690 non-null    int64  \n",
      "dtypes: float64(2), int64(3), object(11)\n",
      "memory usage: 86.4+ KB\n"
     ]
    }
   ],
   "source": [
    "df.info()"
   ]
  },
  {
   "cell_type": "code",
   "execution_count": 7,
   "metadata": {},
   "outputs": [
    {
     "data": {
      "text/plain": [
       "a1     0\n",
       "a2     0\n",
       "s3     0\n",
       "a4     0\n",
       "a5     0\n",
       "a6     0\n",
       "a7     0\n",
       "a8     0\n",
       "a9     0\n",
       "a10    0\n",
       "a11    0\n",
       "a12    0\n",
       "a13    0\n",
       "a14    0\n",
       "a15    0\n",
       "a16    0\n",
       "dtype: int64"
      ]
     },
     "execution_count": 7,
     "metadata": {},
     "output_type": "execute_result"
    }
   ],
   "source": [
    "df.isna().sum()"
   ]
  },
  {
   "cell_type": "markdown",
   "metadata": {},
   "source": [
    "### Cleaning and prepping data"
   ]
  },
  {
   "cell_type": "code",
   "execution_count": 8,
   "metadata": {},
   "outputs": [],
   "source": [
    "df['a2'] = df['a2'].replace('?', np.nan)\n",
    "a2_median = df['a2'].median()\n",
    "df['a2'].fillna(a2_median, inplace=True)\n",
    "df['a2'] = df['a2'].astype('float64')\n",
    "\n",
    "df['a14'] = df['a14'].replace('?', np.nan)\n",
    "a14_median = df['a14'].median()\n",
    "df['a14'].fillna(a14_median, inplace=True)\n",
    "df['a14'] = df['a14'].astype('float64')"
   ]
  },
  {
   "cell_type": "code",
   "execution_count": 9,
   "metadata": {},
   "outputs": [],
   "source": [
    "cat_cols = df.select_dtypes('object')"
   ]
  },
  {
   "cell_type": "code",
   "execution_count": 10,
   "metadata": {},
   "outputs": [
    {
     "data": {
      "text/plain": [
       "Index(['a1', 'a4', 'a5', 'a6', 'a7', 'a9', 'a10', 'a12', 'a13'], dtype='object')"
      ]
     },
     "execution_count": 10,
     "metadata": {},
     "output_type": "execute_result"
    }
   ],
   "source": [
    "cat_cols_ = cat_cols.columns\n",
    "cat_cols_"
   ]
  },
  {
   "cell_type": "code",
   "execution_count": 11,
   "metadata": {},
   "outputs": [
    {
     "name": "stdout",
     "output_type": "stream",
     "text": [
      "**************************************************\n",
      "a1\n",
      "['b' 'a' '?']\n",
      "*************************\n",
      "a1\n",
      "b    468\n",
      "a    210\n",
      "?     12\n",
      "Name: count, dtype: int64\n",
      "*************************\n",
      "**************************************************\n",
      "a4\n",
      "['u' 'y' '?' 'l']\n",
      "*************************\n",
      "a4\n",
      "u    519\n",
      "y    163\n",
      "?      6\n",
      "l      2\n",
      "Name: count, dtype: int64\n",
      "*************************\n",
      "**************************************************\n",
      "a5\n",
      "['g' 'p' '?' 'gg']\n",
      "*************************\n",
      "a5\n",
      "g     519\n",
      "p     163\n",
      "?       6\n",
      "gg      2\n",
      "Name: count, dtype: int64\n",
      "*************************\n",
      "**************************************************\n",
      "a6\n",
      "['w' 'q' 'm' 'r' 'cc' 'k' 'c' 'd' 'x' 'i' 'e' 'aa' 'ff' 'j' '?']\n",
      "*************************\n",
      "a6\n",
      "c     137\n",
      "q      78\n",
      "w      64\n",
      "i      59\n",
      "aa     54\n",
      "ff     53\n",
      "k      51\n",
      "cc     41\n",
      "m      38\n",
      "x      38\n",
      "d      30\n",
      "e      25\n",
      "j      10\n",
      "?       9\n",
      "r       3\n",
      "Name: count, dtype: int64\n",
      "*************************\n",
      "**************************************************\n",
      "a7\n",
      "['v' 'h' 'bb' 'ff' 'j' 'z' '?' 'o' 'dd' 'n']\n",
      "*************************\n",
      "a7\n",
      "v     399\n",
      "h     138\n",
      "bb     59\n",
      "ff     57\n",
      "?       9\n",
      "j       8\n",
      "z       8\n",
      "dd      6\n",
      "n       4\n",
      "o       2\n",
      "Name: count, dtype: int64\n",
      "*************************\n",
      "**************************************************\n",
      "a9\n",
      "['t' 'f']\n",
      "*************************\n",
      "a9\n",
      "t    361\n",
      "f    329\n",
      "Name: count, dtype: int64\n",
      "*************************\n",
      "**************************************************\n",
      "a10\n",
      "['t' 'f']\n",
      "*************************\n",
      "a10\n",
      "f    395\n",
      "t    295\n",
      "Name: count, dtype: int64\n",
      "*************************\n",
      "**************************************************\n",
      "a12\n",
      "['f' 't']\n",
      "*************************\n",
      "a12\n",
      "f    374\n",
      "t    316\n",
      "Name: count, dtype: int64\n",
      "*************************\n",
      "**************************************************\n",
      "a13\n",
      "['g' 's' 'p']\n",
      "*************************\n",
      "a13\n",
      "g    625\n",
      "s     57\n",
      "p      8\n",
      "Name: count, dtype: int64\n",
      "*************************\n"
     ]
    }
   ],
   "source": [
    "for col in cat_cols.columns:\n",
    "    print(\"*\" * 50)\n",
    "    print(str(col))\n",
    "    print(df[col].unique())\n",
    "    print(\"*\" * 25)\n",
    "    print(df[col].value_counts())\n",
    "    print(\"*\" * 25)"
   ]
  },
  {
   "cell_type": "markdown",
   "metadata": {},
   "source": [
    "### Interpretation:\n",
    "- There are __?__ present in categorical columns too\n",
    "- Populating missing categories with categories with least amount of data from each column"
   ]
  },
  {
   "cell_type": "code",
   "execution_count": 12,
   "metadata": {},
   "outputs": [],
   "source": [
    "clean_cat_cols = ['a7', 'a6', 'a5', 'a4', 'a1']\n",
    "df['a1'] = df['a1'].replace('?', 'a')\n",
    "df['a4'] = df['a4'].replace('?', 'l')\n",
    "df['a5'] = df['a5'].replace('?', 'gg')\n",
    "df['a6'] = df['a6'].replace('?', 'r')\n",
    "df['a7'] = df['a7'].replace('?', 'o')"
   ]
  },
  {
   "cell_type": "markdown",
   "metadata": {},
   "source": [
    "### Label encoding"
   ]
  },
  {
   "cell_type": "code",
   "execution_count": 13,
   "metadata": {},
   "outputs": [],
   "source": [
    "le = LabelEncoder()\n",
    "\n",
    "dum_df = cat_cols.apply(le.fit_transform)"
   ]
  },
  {
   "cell_type": "code",
   "execution_count": 14,
   "metadata": {},
   "outputs": [
    {
     "data": {
      "text/html": [
       "<div>\n",
       "<style scoped>\n",
       "    .dataframe tbody tr th:only-of-type {\n",
       "        vertical-align: middle;\n",
       "    }\n",
       "\n",
       "    .dataframe tbody tr th {\n",
       "        vertical-align: top;\n",
       "    }\n",
       "\n",
       "    .dataframe thead th {\n",
       "        text-align: right;\n",
       "    }\n",
       "</style>\n",
       "<table border=\"1\" class=\"dataframe\">\n",
       "  <thead>\n",
       "    <tr style=\"text-align: right;\">\n",
       "      <th></th>\n",
       "      <th>a1</th>\n",
       "      <th>a4</th>\n",
       "      <th>a5</th>\n",
       "      <th>a6</th>\n",
       "      <th>a7</th>\n",
       "      <th>a9</th>\n",
       "      <th>a10</th>\n",
       "      <th>a12</th>\n",
       "      <th>a13</th>\n",
       "    </tr>\n",
       "  </thead>\n",
       "  <tbody>\n",
       "    <tr>\n",
       "      <th>0</th>\n",
       "      <td>2</td>\n",
       "      <td>2</td>\n",
       "      <td>1</td>\n",
       "      <td>13</td>\n",
       "      <td>8</td>\n",
       "      <td>1</td>\n",
       "      <td>1</td>\n",
       "      <td>0</td>\n",
       "      <td>0</td>\n",
       "    </tr>\n",
       "    <tr>\n",
       "      <th>1</th>\n",
       "      <td>1</td>\n",
       "      <td>2</td>\n",
       "      <td>1</td>\n",
       "      <td>11</td>\n",
       "      <td>4</td>\n",
       "      <td>1</td>\n",
       "      <td>1</td>\n",
       "      <td>0</td>\n",
       "      <td>0</td>\n",
       "    </tr>\n",
       "    <tr>\n",
       "      <th>2</th>\n",
       "      <td>1</td>\n",
       "      <td>2</td>\n",
       "      <td>1</td>\n",
       "      <td>11</td>\n",
       "      <td>4</td>\n",
       "      <td>1</td>\n",
       "      <td>0</td>\n",
       "      <td>0</td>\n",
       "      <td>0</td>\n",
       "    </tr>\n",
       "    <tr>\n",
       "      <th>3</th>\n",
       "      <td>2</td>\n",
       "      <td>2</td>\n",
       "      <td>1</td>\n",
       "      <td>13</td>\n",
       "      <td>8</td>\n",
       "      <td>1</td>\n",
       "      <td>1</td>\n",
       "      <td>1</td>\n",
       "      <td>0</td>\n",
       "    </tr>\n",
       "    <tr>\n",
       "      <th>4</th>\n",
       "      <td>2</td>\n",
       "      <td>2</td>\n",
       "      <td>1</td>\n",
       "      <td>13</td>\n",
       "      <td>8</td>\n",
       "      <td>1</td>\n",
       "      <td>0</td>\n",
       "      <td>0</td>\n",
       "      <td>2</td>\n",
       "    </tr>\n",
       "  </tbody>\n",
       "</table>\n",
       "</div>"
      ],
      "text/plain": [
       "   a1  a4  a5  a6  a7  a9  a10  a12  a13\n",
       "0   2   2   1  13   8   1    1    0    0\n",
       "1   1   2   1  11   4   1    1    0    0\n",
       "2   1   2   1  11   4   1    0    0    0\n",
       "3   2   2   1  13   8   1    1    1    0\n",
       "4   2   2   1  13   8   1    0    0    2"
      ]
     },
     "execution_count": 14,
     "metadata": {},
     "output_type": "execute_result"
    }
   ],
   "source": [
    "dum_df.head()"
   ]
  },
  {
   "cell_type": "code",
   "execution_count": 15,
   "metadata": {},
   "outputs": [
    {
     "name": "stdout",
     "output_type": "stream",
     "text": [
      "      a2     s3    a8  a11    a14  a15  a16\n",
      "0  30.83  0.000  1.25    1  202.0    0    1\n",
      "1  58.67  4.460  3.04    6   43.0  560    1\n",
      "2  24.50  0.500  1.50    0  280.0  824    1\n",
      "3  27.83  1.540  3.75    5  100.0    3    1\n",
      "4  20.17  5.625  1.71    0  120.0    0    1\n"
     ]
    }
   ],
   "source": [
    "# joining df and dum_df\n",
    "df = df.drop(cat_cols_, axis=1)\n",
    "print(df.head())\n",
    "final_df_ = df.join(dum_df)"
   ]
  },
  {
   "cell_type": "code",
   "execution_count": 16,
   "metadata": {},
   "outputs": [],
   "source": [
    "final_df = final_df_.copy()"
   ]
  },
  {
   "cell_type": "code",
   "execution_count": 17,
   "metadata": {},
   "outputs": [
    {
     "data": {
      "text/html": [
       "<div>\n",
       "<style scoped>\n",
       "    .dataframe tbody tr th:only-of-type {\n",
       "        vertical-align: middle;\n",
       "    }\n",
       "\n",
       "    .dataframe tbody tr th {\n",
       "        vertical-align: top;\n",
       "    }\n",
       "\n",
       "    .dataframe thead th {\n",
       "        text-align: right;\n",
       "    }\n",
       "</style>\n",
       "<table border=\"1\" class=\"dataframe\">\n",
       "  <thead>\n",
       "    <tr style=\"text-align: right;\">\n",
       "      <th></th>\n",
       "      <th>a2</th>\n",
       "      <th>s3</th>\n",
       "      <th>a8</th>\n",
       "      <th>a11</th>\n",
       "      <th>a14</th>\n",
       "      <th>a15</th>\n",
       "      <th>a16</th>\n",
       "      <th>a1</th>\n",
       "      <th>a4</th>\n",
       "      <th>a5</th>\n",
       "      <th>a6</th>\n",
       "      <th>a7</th>\n",
       "      <th>a9</th>\n",
       "      <th>a10</th>\n",
       "      <th>a12</th>\n",
       "      <th>a13</th>\n",
       "    </tr>\n",
       "  </thead>\n",
       "  <tbody>\n",
       "    <tr>\n",
       "      <th>0</th>\n",
       "      <td>30.83</td>\n",
       "      <td>0.00</td>\n",
       "      <td>1.25</td>\n",
       "      <td>1</td>\n",
       "      <td>202.0</td>\n",
       "      <td>0</td>\n",
       "      <td>1</td>\n",
       "      <td>2</td>\n",
       "      <td>2</td>\n",
       "      <td>1</td>\n",
       "      <td>13</td>\n",
       "      <td>8</td>\n",
       "      <td>1</td>\n",
       "      <td>1</td>\n",
       "      <td>0</td>\n",
       "      <td>0</td>\n",
       "    </tr>\n",
       "    <tr>\n",
       "      <th>1</th>\n",
       "      <td>58.67</td>\n",
       "      <td>4.46</td>\n",
       "      <td>3.04</td>\n",
       "      <td>6</td>\n",
       "      <td>43.0</td>\n",
       "      <td>560</td>\n",
       "      <td>1</td>\n",
       "      <td>1</td>\n",
       "      <td>2</td>\n",
       "      <td>1</td>\n",
       "      <td>11</td>\n",
       "      <td>4</td>\n",
       "      <td>1</td>\n",
       "      <td>1</td>\n",
       "      <td>0</td>\n",
       "      <td>0</td>\n",
       "    </tr>\n",
       "  </tbody>\n",
       "</table>\n",
       "</div>"
      ],
      "text/plain": [
       "      a2    s3    a8  a11    a14  a15  a16  a1  a4  a5  a6  a7  a9  a10  a12  \\\n",
       "0  30.83  0.00  1.25    1  202.0    0    1   2   2   1  13   8   1    1    0   \n",
       "1  58.67  4.46  3.04    6   43.0  560    1   1   2   1  11   4   1    1    0   \n",
       "\n",
       "   a13  \n",
       "0    0  \n",
       "1    0  "
      ]
     },
     "execution_count": 17,
     "metadata": {},
     "output_type": "execute_result"
    }
   ],
   "source": [
    "final_df.head(2)"
   ]
  },
  {
   "cell_type": "code",
   "execution_count": 18,
   "metadata": {},
   "outputs": [
    {
     "name": "stdout",
     "output_type": "stream",
     "text": [
      "<class 'pandas.core.frame.DataFrame'>\n",
      "RangeIndex: 690 entries, 0 to 689\n",
      "Data columns (total 16 columns):\n",
      " #   Column  Non-Null Count  Dtype  \n",
      "---  ------  --------------  -----  \n",
      " 0   a2      690 non-null    float64\n",
      " 1   s3      690 non-null    float64\n",
      " 2   a8      690 non-null    float64\n",
      " 3   a11     690 non-null    int64  \n",
      " 4   a14     690 non-null    float64\n",
      " 5   a15     690 non-null    int64  \n",
      " 6   a16     690 non-null    int64  \n",
      " 7   a1      690 non-null    int64  \n",
      " 8   a4      690 non-null    int64  \n",
      " 9   a5      690 non-null    int64  \n",
      " 10  a6      690 non-null    int64  \n",
      " 11  a7      690 non-null    int64  \n",
      " 12  a9      690 non-null    int64  \n",
      " 13  a10     690 non-null    int64  \n",
      " 14  a12     690 non-null    int64  \n",
      " 15  a13     690 non-null    int64  \n",
      "dtypes: float64(4), int64(12)\n",
      "memory usage: 86.4 KB\n"
     ]
    }
   ],
   "source": [
    "final_df.info()"
   ]
  },
  {
   "cell_type": "code",
   "execution_count": 19,
   "metadata": {},
   "outputs": [],
   "source": [
    "#final_df.to_csv('../datasets/crx_enc.csv', index=False)"
   ]
  },
  {
   "cell_type": "code",
   "execution_count": 20,
   "metadata": {},
   "outputs": [],
   "source": [
    "x = final_df.drop('a16', axis=1).values\n",
    "scaler = StandardScaler()\n",
    "x = scaler.fit_transform(x)\n",
    "y = le.fit_transform(final_df['a16'])\n",
    "cls = le.classes_"
   ]
  },
  {
   "cell_type": "code",
   "execution_count": 21,
   "metadata": {},
   "outputs": [],
   "source": [
    "np.random.seed(42)\n",
    "torch.manual_seed(42)\n",
    "\n",
    "#mps_device = str(torch.device('mps'))\n",
    "device = torch.device('mps')"
   ]
  },
  {
   "cell_type": "code",
   "execution_count": 22,
   "metadata": {},
   "outputs": [],
   "source": [
    "# numpy to torch tensor\n",
    "x_tr = torch.tensor(x, device=device, dtype=torch.float32)\n",
    "y_tr = torch.tensor(y, device=device, dtype=torch.long)"
   ]
  },
  {
   "cell_type": "code",
   "execution_count": 23,
   "metadata": {},
   "outputs": [
    {
     "data": {
      "text/plain": [
       "(torch.Size([690, 15]), torch.Size([690]))"
      ]
     },
     "execution_count": 23,
     "metadata": {},
     "output_type": "execute_result"
    }
   ],
   "source": [
    "x_tr.shape, y_tr.shape"
   ]
  },
  {
   "cell_type": "markdown",
   "metadata": {},
   "source": [
    "### Modelling and early stopping"
   ]
  },
  {
   "cell_type": "code",
   "execution_count": 24,
   "metadata": {},
   "outputs": [],
   "source": [
    "# early stopping class\n",
    "import copy\n",
    "\n",
    "class EarlyStopping():\n",
    "    def __init__(self, patience=5, min_delta=0, restore_best_weights=True):\n",
    "        self.patience = patience\n",
    "        self.min_delta = min_delta\n",
    "        self.restore_best_weights = restore_best_weights\n",
    "        self.best_model = None\n",
    "        self.best_loss = None\n",
    "        self.counter = 0\n",
    "        self.status = \"\"\n",
    "\n",
    "    def __call__(self, model, val_loss):\n",
    "        if self.best_loss is None:\n",
    "            self.best_loss = val_loss\n",
    "            self.best_model = copy.deepcopy(model.state_dict())\n",
    "        elif self.best_loss - val_loss >= self.min_delta:\n",
    "            self.best_model = copy.deepcopy(model.state_dict())\n",
    "            self.best_loss = val_loss\n",
    "            self.counter = 0\n",
    "            self.status = f\"Improvement found, counter reset to {self.counter}\"\n",
    "        else:\n",
    "            self.counter += 1\n",
    "            self.status = f\"No improvement in the last {self.counter} epochs\"\n",
    "            if self.counter >= self.patience:\n",
    "                self.status = f\"Early stopping triggered after {self.counter} epochs\"\n",
    "                if self.restore_best_weights:\n",
    "                    model.load_state_dict(self.best_model)\n",
    "                return True\n",
    "        return False"
   ]
  },
  {
   "cell_type": "code",
   "execution_count": 25,
   "metadata": {},
   "outputs": [
    {
     "name": "stderr",
     "output_type": "stream",
     "text": [
      "Epoch: 1, tloss: 0.3137699067592621, vloss: 0.433007, : 100%|██████████| 44/44 [00:04<00:00, 10.29it/s]\n",
      "Epoch: 2, tloss: 0.3136136531829834, vloss: 0.418041, Improvement found, counter reset to 0: 100%|██████████| 44/44 [00:00<00:00, 120.85it/s]\n",
      "Epoch: 3, tloss: 0.31326404213905334, vloss: 0.419308, No improvement in the last 1 epochs: 100%|██████████| 44/44 [00:00<00:00, 157.69it/s]\n",
      "Epoch: 4, tloss: 0.3133283257484436, vloss: 0.416139, Improvement found, counter reset to 0: 100%|██████████| 44/44 [00:00<00:00, 161.50it/s]\n",
      "Epoch: 5, tloss: 0.35895752906799316, vloss: 0.421017, No improvement in the last 1 epochs: 100%|██████████| 44/44 [00:00<00:00, 140.70it/s]\n",
      "Epoch: 6, tloss: 0.3132917881011963, vloss: 0.412780, Improvement found, counter reset to 0: 100%|██████████| 44/44 [00:00<00:00, 161.71it/s]\n",
      "Epoch: 7, tloss: 0.31326165795326233, vloss: 0.407650, Improvement found, counter reset to 0: 100%|██████████| 44/44 [00:00<00:00, 146.10it/s]\n",
      "Epoch: 8, tloss: 0.8132724165916443, vloss: 0.407463, Improvement found, counter reset to 0: 100%|██████████| 44/44 [00:00<00:00, 163.24it/s]\n",
      "Epoch: 9, tloss: 0.31326165795326233, vloss: 0.410036, No improvement in the last 1 epochs: 100%|██████████| 44/44 [00:00<00:00, 148.20it/s]\n",
      "Epoch: 10, tloss: 0.3132621645927429, vloss: 0.406783, Improvement found, counter reset to 0: 100%|██████████| 44/44 [00:00<00:00, 163.61it/s]\n",
      "Epoch: 11, tloss: 0.3132616877555847, vloss: 0.411441, No improvement in the last 1 epochs: 100%|██████████| 44/44 [00:00<00:00, 138.04it/s]\n",
      "Epoch: 12, tloss: 0.3132616877555847, vloss: 0.408097, No improvement in the last 2 epochs: 100%|██████████| 44/44 [00:00<00:00, 160.90it/s]\n",
      "Epoch: 13, tloss: 0.31326165795326233, vloss: 0.407955, No improvement in the last 3 epochs: 100%|██████████| 44/44 [00:00<00:00, 144.11it/s]\n",
      "Epoch: 14, tloss: 0.31326165795326233, vloss: 0.415331, No improvement in the last 4 epochs: 100%|██████████| 44/44 [00:00<00:00, 159.88it/s]\n",
      "Epoch: 15, tloss: 0.31326165795326233, vloss: 0.404009, Improvement found, counter reset to 0: 100%|██████████| 44/44 [00:00<00:00, 148.25it/s]\n",
      "Epoch: 16, tloss: 0.31326165795326233, vloss: 0.404765, No improvement in the last 1 epochs: 100%|██████████| 44/44 [00:00<00:00, 163.10it/s]\n",
      "Epoch: 17, tloss: 0.8132616281509399, vloss: 0.407576, No improvement in the last 2 epochs: 100%|██████████| 44/44 [00:00<00:00, 146.00it/s]\n",
      "Epoch: 18, tloss: 0.31326165795326233, vloss: 0.398337, Improvement found, counter reset to 0: 100%|██████████| 44/44 [00:00<00:00, 149.93it/s]\n",
      "Epoch: 19, tloss: 0.31326165795326233, vloss: 0.399502, No improvement in the last 1 epochs: 100%|██████████| 44/44 [00:00<00:00, 160.84it/s]\n",
      "Epoch: 20, tloss: 0.814418613910675, vloss: 0.399718, No improvement in the last 2 epochs: 100%|██████████| 44/44 [00:00<00:00, 145.55it/s]\n",
      "Epoch: 21, tloss: 0.31326165795326233, vloss: 0.397644, Improvement found, counter reset to 0: 100%|██████████| 44/44 [00:00<00:00, 100.21it/s]\n",
      "Epoch: 22, tloss: 0.3132961690425873, vloss: 0.396510, Improvement found, counter reset to 0: 100%|██████████| 44/44 [00:00<00:00, 126.16it/s]\n",
      "Epoch: 23, tloss: 0.31326165795326233, vloss: 0.392952, Improvement found, counter reset to 0: 100%|██████████| 44/44 [00:00<00:00, 137.93it/s]\n",
      "Epoch: 24, tloss: 0.3132621645927429, vloss: 0.404353, No improvement in the last 1 epochs: 100%|██████████| 44/44 [00:00<00:00, 143.09it/s]\n",
      "Epoch: 25, tloss: 0.8132616281509399, vloss: 0.394779, No improvement in the last 2 epochs: 100%|██████████| 44/44 [00:00<00:00, 127.78it/s]\n",
      "Epoch: 26, tloss: 0.313262939453125, vloss: 0.397018, No improvement in the last 3 epochs: 100%|██████████| 44/44 [00:00<00:00, 117.98it/s]\n",
      "Epoch: 27, tloss: 0.31326165795326233, vloss: 0.393999, No improvement in the last 4 epochs: 100%|██████████| 44/44 [00:00<00:00, 146.01it/s]\n",
      "Epoch: 28, tloss: 0.31326165795326233, vloss: 0.398369, Early stopping triggered after 5 epochs: 100%|██████████| 44/44 [00:00<00:00, 122.44it/s]\n"
     ]
    }
   ],
   "source": [
    "# modelling and training\n",
    "\n",
    "BATCH_SIZE = 16\n",
    "\n",
    "dataset_train = TensorDataset(x_tr, y_tr)\n",
    "dataloader_train = DataLoader(dataset_train, batch_size=BATCH_SIZE, shuffle=True)\n",
    "\n",
    "# create model\n",
    "model = nn.Sequential(\n",
    "    nn.Linear(x_tr.shape[1], 50),\n",
    "    nn.ReLU(),\n",
    "    nn.Linear(50,25),\n",
    "    nn.ReLU(),\n",
    "    nn.Linear(25, len(cls)),\n",
    "    nn.Sigmoid(),\n",
    ")\n",
    "\n",
    "model = torch.compile(model, backend='aot_eager').to(device)\n",
    "\n",
    "loss_fn = nn.CrossEntropyLoss()\n",
    "\n",
    "optimizer = torch.optim.Adam(model.parameters(), lr=0.01)\n",
    "\n",
    "es = EarlyStopping()\n",
    "\n",
    "epoch = 0\n",
    "done = False\n",
    "\n",
    "while epoch < 1000 and not done:\n",
    "    epoch += 1\n",
    "    steps = list(enumerate(dataloader_train))\n",
    "    pbar = tqdm.tqdm(steps)\n",
    "    model.train()\n",
    "    for i, (x_batch, y_batch) in pbar:\n",
    "        y_batch_pred = model(x_batch.to(device))\n",
    "        loss = loss_fn(y_batch_pred, y_batch.to(device))\n",
    "        optimizer.zero_grad()\n",
    "        loss.backward()\n",
    "        optimizer.step()\n",
    "\n",
    "        loss, current = loss.item(), (i+1) * len(x_batch)\n",
    "        if i == len(steps) - 1:\n",
    "            model.eval()\n",
    "            pred = model(x_tr)\n",
    "            vloss = loss_fn(pred, y_tr)\n",
    "            if es(model, vloss):\n",
    "                done = True\n",
    "            pbar.set_description(f\"Epoch: {epoch}, tloss: {loss}, vloss: {vloss:>7f}, {es.status}\")\n",
    "        else:\n",
    "            pbar.set_description(f'Epoch: {epoch}, tloss {loss:}')"
   ]
  },
  {
   "cell_type": "code",
   "execution_count": 26,
   "metadata": {},
   "outputs": [
    {
     "name": "stdout",
     "output_type": "stream",
     "text": [
      "Loss = 0.39295193552970886\n"
     ]
    }
   ],
   "source": [
    "pred = model(x_tr)\n",
    "vloss = loss_fn(pred, y_tr)\n",
    "print(f\"Loss = {vloss}\")"
   ]
  },
  {
   "cell_type": "code",
   "execution_count": 27,
   "metadata": {},
   "outputs": [
    {
     "data": {
      "text/plain": [
       "torch.Size([690, 2])"
      ]
     },
     "execution_count": 27,
     "metadata": {},
     "output_type": "execute_result"
    }
   ],
   "source": [
    "pred.shape"
   ]
  },
  {
   "cell_type": "code",
   "execution_count": 28,
   "metadata": {},
   "outputs": [
    {
     "data": {
      "text/plain": [
       "torch.Tensor"
      ]
     },
     "execution_count": 28,
     "metadata": {},
     "output_type": "execute_result"
    }
   ],
   "source": [
    "type(pred)"
   ]
  },
  {
   "cell_type": "code",
   "execution_count": 37,
   "metadata": {},
   "outputs": [],
   "source": [
    "top_p, predicted_class = torch.max(pred,1)\n",
    "pred_arr = pred.cpu().detach().numpy()\n",
    "px = pd.DataFrame(pred_arr, columns=['+', '-'], dtype=np.float64)\n",
    "px['+'] = px['+'].apply(lambda x: float(x))"
   ]
  },
  {
   "cell_type": "code",
   "execution_count": 38,
   "metadata": {},
   "outputs": [
    {
     "data": {
      "text/plain": [
       "(690,)"
      ]
     },
     "execution_count": 38,
     "metadata": {},
     "output_type": "execute_result"
    }
   ],
   "source": [
    "top_p.cpu().detach().numpy().shape"
   ]
  },
  {
   "cell_type": "code",
   "execution_count": 39,
   "metadata": {},
   "outputs": [
    {
     "data": {
      "text/html": [
       "<div>\n",
       "<style scoped>\n",
       "    .dataframe tbody tr th:only-of-type {\n",
       "        vertical-align: middle;\n",
       "    }\n",
       "\n",
       "    .dataframe tbody tr th {\n",
       "        vertical-align: top;\n",
       "    }\n",
       "\n",
       "    .dataframe thead th {\n",
       "        text-align: right;\n",
       "    }\n",
       "</style>\n",
       "<table border=\"1\" class=\"dataframe\">\n",
       "  <thead>\n",
       "    <tr style=\"text-align: right;\">\n",
       "      <th></th>\n",
       "      <th>+</th>\n",
       "      <th>-</th>\n",
       "    </tr>\n",
       "  </thead>\n",
       "  <tbody>\n",
       "    <tr>\n",
       "      <th>0</th>\n",
       "      <td>7.253057e-10</td>\n",
       "      <td>1.000000e+00</td>\n",
       "    </tr>\n",
       "    <tr>\n",
       "      <th>1</th>\n",
       "      <td>8.370072e-11</td>\n",
       "      <td>1.000000e+00</td>\n",
       "    </tr>\n",
       "    <tr>\n",
       "      <th>2</th>\n",
       "      <td>6.584205e-03</td>\n",
       "      <td>9.970058e-01</td>\n",
       "    </tr>\n",
       "    <tr>\n",
       "      <th>3</th>\n",
       "      <td>1.557166e-11</td>\n",
       "      <td>1.000000e+00</td>\n",
       "    </tr>\n",
       "    <tr>\n",
       "      <th>4</th>\n",
       "      <td>1.114385e-04</td>\n",
       "      <td>9.999645e-01</td>\n",
       "    </tr>\n",
       "    <tr>\n",
       "      <th>...</th>\n",
       "      <td>...</td>\n",
       "      <td>...</td>\n",
       "    </tr>\n",
       "    <tr>\n",
       "      <th>685</th>\n",
       "      <td>1.000000e+00</td>\n",
       "      <td>2.913498e-16</td>\n",
       "    </tr>\n",
       "    <tr>\n",
       "      <th>686</th>\n",
       "      <td>1.000000e+00</td>\n",
       "      <td>3.252083e-13</td>\n",
       "    </tr>\n",
       "    <tr>\n",
       "      <th>687</th>\n",
       "      <td>1.000000e+00</td>\n",
       "      <td>4.508613e-14</td>\n",
       "    </tr>\n",
       "    <tr>\n",
       "      <th>688</th>\n",
       "      <td>1.000000e+00</td>\n",
       "      <td>5.712516e-17</td>\n",
       "    </tr>\n",
       "    <tr>\n",
       "      <th>689</th>\n",
       "      <td>1.000000e+00</td>\n",
       "      <td>5.507042e-08</td>\n",
       "    </tr>\n",
       "  </tbody>\n",
       "</table>\n",
       "<p>690 rows × 2 columns</p>\n",
       "</div>"
      ],
      "text/plain": [
       "                +             -\n",
       "0    7.253057e-10  1.000000e+00\n",
       "1    8.370072e-11  1.000000e+00\n",
       "2    6.584205e-03  9.970058e-01\n",
       "3    1.557166e-11  1.000000e+00\n",
       "4    1.114385e-04  9.999645e-01\n",
       "..            ...           ...\n",
       "685  1.000000e+00  2.913498e-16\n",
       "686  1.000000e+00  3.252083e-13\n",
       "687  1.000000e+00  4.508613e-14\n",
       "688  1.000000e+00  5.712516e-17\n",
       "689  1.000000e+00  5.507042e-08\n",
       "\n",
       "[690 rows x 2 columns]"
      ]
     },
     "execution_count": 39,
     "metadata": {},
     "output_type": "execute_result"
    }
   ],
   "source": [
    "px"
   ]
  },
  {
   "cell_type": "code",
   "execution_count": 40,
   "metadata": {},
   "outputs": [],
   "source": [
    "px.to_csv('../datasets/assignment_3_crx_pred.csv', index=False)"
   ]
  },
  {
   "cell_type": "code",
   "execution_count": null,
   "metadata": {},
   "outputs": [],
   "source": []
  }
 ],
 "metadata": {
  "kernelspec": {
   "display_name": "torch_new_venv",
   "language": "python",
   "name": "python3"
  },
  "language_info": {
   "codemirror_mode": {
    "name": "ipython",
    "version": 3
   },
   "file_extension": ".py",
   "mimetype": "text/x-python",
   "name": "python",
   "nbconvert_exporter": "python",
   "pygments_lexer": "ipython3",
   "version": "3.10.12"
  },
  "orig_nbformat": 4
 },
 "nbformat": 4,
 "nbformat_minor": 2
}
