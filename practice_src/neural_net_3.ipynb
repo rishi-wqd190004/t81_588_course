{
 "cells": [
  {
   "cell_type": "markdown",
   "metadata": {},
   "source": [
    "### NN\n",
    "- Input to NN --> feature vector\n",
    "\n",
    "- 1D vector - Classic input to a neural network, similar to rows in a spreadsheet. Common in predictive modeling.\n",
    "- 2D Matrix - Grayscale image input to a CNN.\n",
    "- 3D Matrix - Color image input to a CNN.\n",
    "- nD Matrix - Higher-order input to a CNN.\n",
    "\n",
    "- Regression or two class classification --> networks always have a single output\n",
    "- Classification --> networks have an output neuron for each category"
   ]
  },
  {
   "cell_type": "markdown",
   "metadata": {},
   "source": [
    "### Input and Neurons\n",
    "- Typically NN takes in floating-point vectors\n",
    "- Vector is 1D array eg: [0.75, 0.55, 0.2]\n",
    "\n",
    "### Hidden Neurons\n",
    "- Previously mentioned to have only one hidden layer --> Reason: training will take more time\n",
    "- Now we are computationaly well to do hence can have multiple layer of hidden neurons\n",
    "- Training refers to *__process that determines good weight values__*\n",
    "\n",
    "### Bias Neurons\n",
    "- Generally marked as 1 which is called the bias activation\n",
    "- Not connected with previous layers\n",
    "- Each layer is fixed with a bias neuron to provide a constant value\n",
    "- Allow the program to shift the output of an activation function\n",
    "\n",
    "### Neurons called as nodes, units or summations"
   ]
  }
 ],
 "metadata": {
  "kernelspec": {
   "display_name": "torch_new_venv",
   "language": "python",
   "name": "python3"
  },
  "language_info": {
   "name": "python",
   "version": "3.10.12"
  },
  "orig_nbformat": 4
 },
 "nbformat": 4,
 "nbformat_minor": 2
}
