{
 "cells": [
  {
   "cell_type": "markdown",
   "metadata": {},
   "source": [
    "### NN\n",
    "- Input to NN --> feature vector\n",
    "\n",
    "- 1D vector - Classic input to a neural network, similar to rows in a spreadsheet. Common in predictive modeling.\n",
    "- 2D Matrix - Grayscale image input to a CNN.\n",
    "- 3D Matrix - Color image input to a CNN.\n",
    "- nD Matrix - Higher-order input to a CNN.\n",
    "\n",
    "- Regression or two class classification --> networks always have a single output\n",
    "- Classification --> networks have an output neuron for each category"
   ]
  },
  {
   "cell_type": "markdown",
   "metadata": {},
   "source": [
    "### Input and Neurons\n",
    "- Typically NN takes in floating-point vectors\n",
    "- Vector is 1D array eg: [0.75, 0.55, 0.2]\n",
    "\n",
    "### Hidden Neurons\n",
    "- Previously mentioned to have only one hidden layer --> Reason: training will take more time\n",
    "- Now we are computationaly well to do hence can have multiple layer of hidden neurons\n",
    "- Training refers to *__process that determines good weight values__*\n",
    "\n",
    "### Bias Neurons\n",
    "- Generally marked as 1 which is called the bias activation\n",
    "- Not connected with previous layers\n",
    "- Each layer is fixed with a bias neuron to provide a constant value\n",
    "- Allow the program to shift the output of an activation function\n",
    "\n",
    "### Neurons called as nodes, units or summations\n",
    "- __Input Neurons__: Map each input neuron to one element of feature vector\n",
    "- __Hidden Neurons__: Allows NN to be abstract and process input to the output\n",
    "- __Output Neurons__: Each output neuron calculate one part of the output\n",
    "- __Bias Neurons__: Work similar to y-intercept of linear equation (y = mx + b) i.e. the *b* "
   ]
  },
  {
   "cell_type": "markdown",
   "metadata": {},
   "source": [
    "### Input and Output Neurons\n",
    "- Input neurons will have each neuron take an input vector and output the output vector in similar shape of the input vector\n",
    "- Shape of input vector or array must be similar to the number of input neurons\n",
    "    - Eg: Three input neurons must have:\n",
    "        [0.5, 0.75, 0.3]\n",
    "\n",
    "### Hidden Neurons\n",
    "- Takes input from input neurons or other hidden neurons\n",
    "- Helps to understand input and form the output\n",
    "- Most of time, bunch multiple hidden layers\n",
    "- Training means finding the best weights values\n",
    "\n",
    "### Bias Neurons\n",
    "- Fixed output of value like 1\n",
    "- Each layer apart from output layer will have bias neurons\n",
    "- Not connected with previous layers"
   ]
  },
  {
   "cell_type": "markdown",
   "metadata": {},
   "source": [
    "### Why Bias neurons needed?\n",
    "- Activation function specifies the output of a neuron\n",
    "- Derivative of a function is taken to measure its *senstivity*"
   ]
  },
  {
   "cell_type": "markdown",
   "metadata": {},
   "source": [
    "### Activation functions\n",
    "- ReLU: Used for output of hidden layers\n",
    "- Softmax: Used for output of classification\n",
    "- Linear: Used for output of regression (or 2-classification)"
   ]
  },
  {
   "cell_type": "markdown",
   "metadata": {},
   "source": [
    "### Linear Activation function"
   ]
  },
  {
   "cell_type": "markdown",
   "metadata": {},
   "source": [
    "$$\n",
    "    f(x) = x \n",
    "$$ \n",
    "- Linear activation function spits out a constant value when tried to apply backpropogation as derivative is a constant\n",
    "- Last layer will be a linear function of the first layer: hence linear function turns the NN into just one layer\n",
    "\n",
    "<img src='../misc/Linear.png' width='800'/>"
   ]
  },
  {
   "cell_type": "markdown",
   "metadata": {},
   "source": [
    "### Rectified Linear Units (ReLU)"
   ]
  },
  {
   "cell_type": "markdown",
   "metadata": {},
   "source": [
    "$$\n",
    "    f(x) = max(0,x)\n",
    "$$\n",
    "- Good for hidden layers\n",
    "\n",
    "<img src='../misc/ReLU.png' width='800'/>"
   ]
  },
  {
   "cell_type": "markdown",
   "metadata": {},
   "source": [
    "### Softmax Activation function"
   ]
  },
  {
   "cell_type": "markdown",
   "metadata": {},
   "source": [
    "- Generally found in classification based problems with usually present in the output layer of NN\n",
    "- Each neuron gives its output based on *probability* of each class\n",
    "- The probability will sum to 100%\n",
    "- 1 output neuron for each class\n",
    "\n",
    "$$\n",
    "    f*i(x) = \\frac{exp(x_i)} {\\sum*j exp(x_j)}\n",
    "$$\n",
    "\n",
    "- The output of each neuron is not the probability but the output vector and if you apply the above formula then it will give the probability of each class"
   ]
  },
  {
   "cell_type": "markdown",
   "metadata": {},
   "source": [
    "### Step Activation Function"
   ]
  },
  {
   "cell_type": "markdown",
   "metadata": {},
   "source": [
    "- Step activation is 1 if x >= 0.5 and 0 otherwise\n",
    "- Mainly used in binary classification\n",
    "\n",
    "<img src='../misc/Step.png' width='800'/>"
   ]
  },
  {
   "cell_type": "markdown",
   "metadata": {},
   "source": [
    "### Sigmoid Activation Function"
   ]
  },
  {
   "cell_type": "markdown",
   "metadata": {},
   "source": [
    "$$\n",
    "    f(x) = \\frac{1}{1 + e^{-x}}\n",
    "$$\n",
    "- Also called Logistic activation function\n",
    "- Use to enusre that values stay within a relatively small range like 0 to 1 (most of the time)\n",
    "\n",
    "<img src='../misc/sigmoid.png' width='800'/>"
   ]
  },
  {
   "cell_type": "markdown",
   "metadata": {},
   "source": [
    "### Hyperbolic Tangent Activation Function"
   ]
  },
  {
   "cell_type": "markdown",
   "metadata": {},
   "source": [
    "- Outputs the value in range -1 to 1\n",
    "\n",
    "$$\n",
    "    f(x) = tanh(x)\n",
    "$$\n",
    "- HTAN/tanh has many advantages over Sigmoid:\n",
    "    - tanh converges faster than sigmoid\n",
    "    \n",
    "Reference: [Sigmoid vs Tanh](https://www.baeldung.com/cs/sigmoid-vs-tanh-functions)\n",
    "\n",
    "<img src='../misc/tanh.png' width='800'/>"
   ]
  },
  {
   "cell_type": "markdown",
   "metadata": {},
   "source": [
    "### Derivating of Sigmoid function"
   ]
  },
  {
   "cell_type": "markdown",
   "metadata": {},
   "source": [
    "First, apply the reciprocal rule.\n",
    "\n",
    "$$\n",
    "s’(x) = \\frac{d}{dx} \\left( \\frac{1}{e^{-x}+1} \\right) = \\frac{-\\frac{d}{dx}(e^{-x}+1)}{(e^{-x}+1)^2}\n",
    "$$\n",
    "\n",
    "Second, this is just a linear equation, so we can take the derivative of each part. Constant 1 goes away.\n",
    "\n",
    "$$\n",
    "= \\frac{-\\frac{d}{dx}(e^{-x})}{(e^{-x}+1)^2}\n",
    "$$\n",
    "\n",
    "Next, exponential function rule with chain rule.\n",
    "\n",
    "$$\n",
    "= \\frac{-( e^{-x} \\cdot \\frac{d}{dx}({-x}))}{(e^{-x}+1)^2}\n",
    "$$\n",
    "\n",
    "Next, this is just a linear equation, so we can take the derivative of each part.\n",
    "\n",
    "$$\n",
    "= \\frac{-(-1)\\cdot{e}^{-x}}{(e^{-x}+1)^2} =\n",
    "$$\n",
    "\n",
    "Eliminate the double negative.\n",
    "\n",
    "$$\n",
    "= \\frac{e^{-x}}{(e^{-x}+1)^2}\n",
    "$$\n",
    "\n",
    "We could stop with the above derivative. However, most texts do not display the above derivative as the final form of the sigmoid functions derivative. For “computational efficiency” we algebraically transform this to use the original sigmoid function twice.\n",
    "\n",
    "$$\n",
    "= \\left( \\frac{1}{e^{-x}+1} \\right) \\left( \\frac{-e^{-x}}{e^{-x}+1} \\right)\n",
    "$$\n",
    "\n",
    "This now reduces to the commonly used form of the sigmoid’s derivative.\n",
    "\n",
    "$$\n",
    "s’(x)= s(x)(1-s(x))\n",
    "$$"
   ]
  },
  {
   "cell_type": "markdown",
   "metadata": {},
   "source": [
    "### Softmax\n",
    "- Commonly used as output are changed to probability values rather than *logits* (vector of raw scores)\n",
    "- Calculated by exponentiating each score and then normalizing the results to sum to 1\n",
    "$$\n",
    "    P(y_i) = \\frac{e^{z_i}}{\\sum_{j=1}^K e^{z_j}}\n",
    "$$\n",
    "Where:\n",
    "\n",
    "*$P(y_i)$* is the probability of class \n",
    "\n",
    "*$z_i$* is the raw score (logit) for class \n",
    "\n",
    "*$K$* is the total number of classes.\n",
    "\n",
    "### LogSoftmax\n",
    "- Better as compared to softmax\n",
    "- No need to compare probabilities \n",
    "- Prevent overflow or underflow errors\n",
    "- Log softmax is also useful when applying the negative log-likelihood loss function, as it simplifies the mathematical calculations by eliminating the need to compute the actual probabilities.\n",
    "$$\n",
    "    \\log P(y_i) = {z_i} - log {\\sum_{j=1}^K e^{z_j}}\n",
    "$$\n"
   ]
  },
  {
   "cell_type": "markdown",
   "metadata": {},
   "source": [
    "### Cross-Entropy Loss\n",
    "#### For Binary Classification:\n",
    "\n",
    "$$\n",
    "    CE(y,\\hat{y}) = -(y.\\log(y) + (1-y).\\log(1-\\hat{y}))\n",
    "$$\n",
    "where\n",
    "    $y$ is true label (0 or 1)\n",
    "    $\\hat{y} is predicted probability of belonging to class 1\n",
    "\n",
    "#### For Multi-class classification\n",
    "- Often called *categorical cross entropy loss* or *softmax loss*\n",
    "$$\n",
    "    CE(y,\\hat{y}) = -\\sum_{i=1}^N y_i. \\log{\\hat{y_i}}\n",
    "$$\n",
    "where\n",
    "    $N$ is number of classes\n",
    "    $y_i$ is true probability distribution over the classes\n",
    "    $\\hat{y_i}$ is predicted probability distribution over the classes produced by softmax function"
   ]
  },
  {
   "cell_type": "markdown",
   "metadata": {},
   "source": [
    "### PyTorch\n",
    "\n",
    "- When initiating an uninitialized tensor use *__torch.Tensor__*\n",
    "- When inititating or creating a tensor from existing data and ensure the data is successfully created then use *__torch.tensor__*"
   ]
  },
  {
   "cell_type": "markdown",
   "metadata": {},
   "source": [
    "### PyTorch training loop explaination\n",
    "```\n",
    "# training loop\n",
    "for epoch in range(1000):\n",
    "    optimizer.zero_grad()\n",
    "    out = model(x)\n",
    "    loss = criterion(out, y)\n",
    "    loss.backward()\n",
    "    optimizer.step()\n",
    "```\n"
   ]
  },
  {
   "cell_type": "markdown",
   "metadata": {},
   "source": [
    "### Feature encoding for classification modelling\n",
    "\n",
    "- Use 'Label encoder'\n",
    "- Always pass encoded values as input and target variables"
   ]
  },
  {
   "cell_type": "markdown",
   "metadata": {},
   "source": [
    "### Early stopping"
   ]
  },
  {
   "cell_type": "markdown",
   "metadata": {},
   "source": [
    "- Helps prevent overfitting\n",
    "- Optimize model performance by monitoring validation loss during training"
   ]
  },
  {
   "cell_type": "code",
   "execution_count": 17,
   "metadata": {},
   "outputs": [],
   "source": [
    "# class for early stopping\n",
    "import copy\n",
    "\n",
    "class EarlyStopping:\n",
    "    def __init__(self, patience=5, min_delta=0, restore_best_weights=True):\n",
    "        self.patience = patience\n",
    "        self.min_delta = min_delta\n",
    "        self.restore_best_weights = restore_best_weights\n",
    "        self.best_model = None\n",
    "        self.best_loss = None\n",
    "        self.counter = 0\n",
    "        self.status = \"\"\n",
    "\n",
    "    def __call__(self, model, val_loss):\n",
    "        if self.best_loss is None:\n",
    "            self.best_loss = val_loss\n",
    "            self.best_model = copy.deepcopy(model.state_dict())\n",
    "        elif self.best_loss - val_loss >= self.min_delta:\n",
    "            self.best_model = copy.deepcopy(model.state_dict())\n",
    "            self.best_loss = val_loss\n",
    "            self.counter = 0\n",
    "            self.status = f\"Improvement found, counter reset to {self.counter}\"\n",
    "        else:\n",
    "            self.counter += 1\n",
    "            self.status = f\"No improvement in the last {self.counter} epochs\"\n",
    "            if self.counter >= self.patience:\n",
    "                self.status = \"Early stopping triggered after {self.counter} epochs\"\n",
    "                if self.restore_best_weights:\n",
    "                    model.load_state_dict(self.best_model)\n",
    "                return True\n",
    "        return False"
   ]
  },
  {
   "cell_type": "markdown",
   "metadata": {},
   "source": [
    "### Dataset loading classes\n",
    "\n",
    "- *Dataset* class is an abstract class that is used to define new types of dataset\n",
    "- *TensorDataset* is ready to use class to represent your data as list of tensors"
   ]
  },
  {
   "cell_type": "code",
   "execution_count": 18,
   "metadata": {},
   "outputs": [],
   "source": [
    "import pandas as pd\n",
    "import numpy as np\n",
    "\n",
    "import torch\n",
    "import tqdm\n",
    "from sklearn.preprocessing import LabelEncoder, StandardScaler\n",
    "from sklearn.metrics import accuracy_score\n",
    "from sklearn.model_selection import train_test_split\n",
    "from torch import nn\n",
    "from torch.utils.data import DataLoader, TensorDataset"
   ]
  },
  {
   "cell_type": "code",
   "execution_count": 19,
   "metadata": {},
   "outputs": [
    {
     "name": "stderr",
     "output_type": "stream",
     "text": [
      "Epoch: 1, tloss: 0.6026307344436646, vloss: 0.536555, : 100%|██████████| 7/7 [00:00<00:00, 18.65it/s]\n",
      "Epoch: 2, tloss: 0.36586475372314453, vloss: 0.277725, Improvement found, counter reset to 0: 100%|██████████| 7/7 [00:00<00:00, 88.86it/s]\n",
      "Epoch: 3, tloss: 0.15603026747703552, vloss: 0.187535, Improvement found, counter reset to 0: 100%|██████████| 7/7 [00:00<00:00, 153.64it/s]\n",
      "Epoch: 4, tloss: 0.05794893577694893, vloss: 0.154333, Improvement found, counter reset to 0: 100%|██████████| 7/7 [00:00<00:00, 148.98it/s]\n",
      "Epoch: 5, tloss: 0.18528980016708374, vloss: 0.076723, Improvement found, counter reset to 0: 100%|██████████| 7/7 [00:00<00:00, 155.41it/s]\n",
      "Epoch: 6, tloss: 0.12420050799846649, vloss: 0.061499, Improvement found, counter reset to 0: 100%|██████████| 7/7 [00:00<00:00, 147.90it/s]\n",
      "Epoch: 7, tloss: 0.0334041602909565, vloss: 0.045322, Improvement found, counter reset to 0: 100%|██████████| 7/7 [00:00<00:00, 157.95it/s]\n",
      "Epoch: 8, tloss: 0.09452516585588455, vloss: 0.032975, Improvement found, counter reset to 0: 100%|██████████| 7/7 [00:00<00:00, 157.93it/s]\n",
      "Epoch: 9, tloss: 0.005208518821746111, vloss: 0.023963, Improvement found, counter reset to 0: 100%|██████████| 7/7 [00:00<00:00, 149.78it/s]\n",
      "Epoch: 10, tloss: 0.06230876222252846, vloss: 0.015515, Improvement found, counter reset to 0: 100%|██████████| 7/7 [00:00<00:00, 142.95it/s]\n",
      "Epoch: 11, tloss: 0.0890890508890152, vloss: 0.038120, No improvement in the last 1 epochs: 100%|██████████| 7/7 [00:00<00:00, 156.40it/s]\n",
      "Epoch: 12, tloss: 0.03496554493904114, vloss: 0.026789, No improvement in the last 2 epochs: 100%|██████████| 7/7 [00:00<00:00, 158.96it/s]\n",
      "Epoch: 13, tloss: 0.06976646184921265, vloss: 0.018425, No improvement in the last 3 epochs: 100%|██████████| 7/7 [00:00<00:00, 132.52it/s]\n",
      "Epoch: 14, tloss: 0.013938352465629578, vloss: 0.010584, Improvement found, counter reset to 0: 100%|██████████| 7/7 [00:00<00:00, 146.28it/s]\n",
      "Epoch: 15, tloss: 0.032232530415058136, vloss: 0.008987, Improvement found, counter reset to 0: 100%|██████████| 7/7 [00:00<00:00, 150.91it/s]\n",
      "Epoch: 16, tloss: 0.009036802686750889, vloss: 0.016889, No improvement in the last 1 epochs: 100%|██████████| 7/7 [00:00<00:00, 159.40it/s]\n",
      "Epoch: 17, tloss: 0.009504597634077072, vloss: 0.014087, No improvement in the last 2 epochs: 100%|██████████| 7/7 [00:00<00:00, 158.91it/s]\n",
      "Epoch: 18, tloss: 0.05779394134879112, vloss: 0.012317, No improvement in the last 3 epochs: 100%|██████████| 7/7 [00:00<00:00, 158.15it/s]\n",
      "Epoch: 19, tloss: 0.001863101962953806, vloss: 0.012097, No improvement in the last 4 epochs: 100%|██████████| 7/7 [00:00<00:00, 161.13it/s]\n",
      "Epoch: 20, tloss: 0.010492893867194653, vloss: 0.011086, Early stopping triggered after {self.counter} epochs: 100%|██████████| 7/7 [00:00<00:00, 156.32it/s]\n"
     ]
    }
   ],
   "source": [
    "np.random.seed(42)\n",
    "torch.manual_seed(42)\n",
    "\n",
    "#mps_device = str(torch.device('mps'))\n",
    "device = torch.device('mps')\n",
    "\n",
    "def load_data():\n",
    "    df = pd.read_csv(\n",
    "        \"https://data.heatonresearch.com/data/t81-558/iris.csv\", na_values=[\"NA\", \"?\"]\n",
    "    )\n",
    "\n",
    "    le = LabelEncoder()\n",
    "\n",
    "    x = df[[\"sepal_l\", \"sepal_w\", \"petal_l\", \"petal_w\"]].values\n",
    "    y = le.fit_transform(df[\"species\"])\n",
    "    species = le.classes_\n",
    "\n",
    "    # split data into train and validation\n",
    "    x_train, x_test, y_train, y_test = train_test_split(x, y, test_size=0.25, random_state=42)\n",
    "\n",
    "    scaler = StandardScaler()\n",
    "    x_train = scaler.fit_transform(x_train)\n",
    "    x_test = scaler.transform(x_test)\n",
    "\n",
    "    # numpy to torch tensor\n",
    "    x_train = torch.tensor(x_train, device=device, dtype=torch.float32)\n",
    "    y_train = torch.tensor(y_train, device=device, dtype=torch.long)\n",
    "\n",
    "    x_test = torch.tensor(x_test, device=device, dtype=torch.float32)\n",
    "    y_test = torch.tensor(y_test, device=device, dtype=torch.long)\n",
    "\n",
    "    return x_train, x_test, y_train, y_test, species\n",
    "\n",
    "x_train, x_test, y_train, y_test, species = load_data()\n",
    "\n",
    "# create datasets\n",
    "BATCH_SIZE = 16\n",
    "\n",
    "dataset_train = TensorDataset(x_train, y_train)\n",
    "dataloader_train = DataLoader(dataset_train, batch_size=BATCH_SIZE, shuffle=True)\n",
    "\n",
    "dataset_test = TensorDataset(x_test, y_test)\n",
    "dataloader_test = DataLoader(dataset_test, batch_size=BATCH_SIZE, shuffle=True)\n",
    "\n",
    "# create model\n",
    "model = nn.Sequential(\n",
    "    nn.Linear(x_train.shape[1], 50),\n",
    "    nn.ReLU(),\n",
    "    nn.Linear(50,25),\n",
    "    nn.ReLU(),\n",
    "    nn.Linear(25, len(species)),\n",
    "    nn.LogSoftmax(dim=1),\n",
    ")\n",
    "\n",
    "model = torch.compile(model, backend='aot_eager').to(device)\n",
    "\n",
    "loss_fn = nn.CrossEntropyLoss()\n",
    "\n",
    "optimizer = torch.optim.Adam(model.parameters(), lr=0.01)\n",
    "\n",
    "es = EarlyStopping()\n",
    "\n",
    "epoch = 0\n",
    "done = False\n",
    "\n",
    "while epoch < 1000 and not done:\n",
    "    epoch += 1\n",
    "    steps = list(enumerate(dataloader_train))\n",
    "    pbar = tqdm.tqdm(steps)\n",
    "    model.train()\n",
    "    for i, (x_batch, y_batch) in pbar:\n",
    "        y_batch_pred = model(x_batch.to(device))\n",
    "        loss = loss_fn(y_batch_pred, y_batch.to(device))\n",
    "        optimizer.zero_grad()\n",
    "        loss.backward()\n",
    "        optimizer.step()\n",
    "\n",
    "        loss, current = loss.item(), (i+1) * len(x_batch)\n",
    "        if i == len(steps) - 1:\n",
    "            model.eval()\n",
    "            pred = model(x_test)\n",
    "            vloss = loss_fn(pred, y_test)\n",
    "            if es(model, vloss):\n",
    "                done = True\n",
    "            pbar.set_description(f\"Epoch: {epoch}, tloss: {loss}, vloss: {vloss:>7f}, {es.status}\")\n",
    "        else:\n",
    "            pbar.set_description(f'Epoch: {epoch}, tloss {loss:}')"
   ]
  },
  {
   "cell_type": "code",
   "execution_count": 20,
   "metadata": {},
   "outputs": [
    {
     "name": "stdout",
     "output_type": "stream",
     "text": [
      "Loss: 0.008987344801425934\n"
     ]
    }
   ],
   "source": [
    "pred = model(x_test)\n",
    "vloss = loss_fn(pred, y_test)\n",
    "print(f\"Loss: {vloss}\")"
   ]
  },
  {
   "cell_type": "code",
   "execution_count": 21,
   "metadata": {},
   "outputs": [
    {
     "data": {
      "text/plain": [
       "OrderedDict([('_orig_mod.0.weight',\n",
       "              tensor([[ 0.4712,  0.2185,  0.1763,  0.7726],\n",
       "                      [-0.3271,  0.2435, -0.4763,  0.0517],\n",
       "                      [ 0.4331, -0.4503,  0.6732,  0.3677],\n",
       "                      [ 0.4196, -0.0278,  0.3677,  0.1083],\n",
       "                      [ 0.3821,  0.1694, -0.0622,  0.3625],\n",
       "                      [-0.1517,  0.0279, -0.2851,  0.2529],\n",
       "                      [-0.5101, -0.0678, -0.3828, -0.5648],\n",
       "                      [-0.1793, -0.5632,  0.2901, -0.6842],\n",
       "                      [ 0.3924, -0.1666,  0.1271,  0.6034],\n",
       "                      [-0.0721,  0.7043, -0.1782, -0.3123],\n",
       "                      [-0.0528, -0.3130,  0.1295,  0.3358],\n",
       "                      [ 0.2369, -0.2709,  0.4818,  0.3183],\n",
       "                      [ 0.0718, -0.1506, -0.7113, -0.4154],\n",
       "                      [-0.6397,  0.7487,  0.0125,  0.0975],\n",
       "                      [ 0.1090, -0.0437,  0.5059, -0.3621],\n",
       "                      [ 0.1768, -0.2662,  0.1362, -0.2083],\n",
       "                      [ 0.1073, -0.2906,  0.5839, -0.1082],\n",
       "                      [-0.3608, -0.5453,  0.4930,  0.1404],\n",
       "                      [ 0.6270, -0.4445, -0.5120, -0.3887],\n",
       "                      [-0.2619, -0.0682,  0.4967,  0.7296],\n",
       "                      [-0.2425, -0.4713,  0.4273, -0.0683],\n",
       "                      [ 0.4161, -0.1921,  0.3749, -0.2711],\n",
       "                      [-0.4567,  0.1001, -0.0514, -0.2835],\n",
       "                      [ 0.0381,  0.4421, -0.6065, -0.5064],\n",
       "                      [ 0.2245, -0.2779, -0.4508, -0.7892],\n",
       "                      [-0.3552,  0.3650, -0.1887, -0.5171],\n",
       "                      [ 0.1582, -0.1566, -0.5319, -0.3951],\n",
       "                      [-0.4490, -0.5758,  0.7535,  0.3300],\n",
       "                      [ 0.3229, -0.5491, -0.3594, -0.2311],\n",
       "                      [-0.2076, -0.4897, -0.4462, -0.5706],\n",
       "                      [-0.1267, -0.2036, -0.2210, -0.5281],\n",
       "                      [-0.0139, -0.2855, -0.1856, -0.5065],\n",
       "                      [ 0.2248, -0.3114,  0.5656,  0.3241],\n",
       "                      [-0.4521,  0.6359, -0.2520, -0.3400],\n",
       "                      [-0.5037, -0.3211, -0.1436, -0.4345],\n",
       "                      [ 0.2196, -0.4069,  0.1789, -0.5973],\n",
       "                      [-0.2231, -0.1586,  0.4185,  0.5878],\n",
       "                      [ 0.5031, -0.4354,  0.4223,  0.1170],\n",
       "                      [-0.1005, -0.4791,  0.5401, -0.3582],\n",
       "                      [ 0.2934,  0.3820,  0.3994, -0.0327],\n",
       "                      [ 0.3608,  0.1483, -0.0930, -0.5224],\n",
       "                      [ 0.1912, -0.2961,  0.0471,  0.7181],\n",
       "                      [-0.0497, -0.1449, -0.5767, -0.3728],\n",
       "                      [ 0.0537, -0.0337, -0.5154, -0.4034],\n",
       "                      [-0.5515,  0.3082,  0.1757, -0.7061],\n",
       "                      [ 0.2682,  0.2882,  0.2859, -0.0345],\n",
       "                      [ 0.2812,  0.3023,  0.2980, -0.0085],\n",
       "                      [-0.2649,  0.2077, -0.2740, -0.3325],\n",
       "                      [ 0.2586,  0.6811, -0.1972, -0.1838],\n",
       "                      [-0.0207, -0.1746,  0.3054,  0.3586]], device='mps:0')),\n",
       "             ('_orig_mod.0.bias',\n",
       "              tensor([-0.4298, -0.0052,  0.3425,  0.4251, -0.1044, -0.3888, -0.1385, -0.3991,\n",
       "                      -0.1401,  0.5606,  0.1401,  0.0175, -0.2785,  0.0647, -0.2254,  0.8187,\n",
       "                       0.2284, -0.0618,  0.4465, -0.1327, -0.2116,  0.7143, -0.0617,  0.1115,\n",
       "                      -0.2221,  0.6273,  0.8355,  0.2825, -0.1703, -0.3764, -0.3131,  0.5214,\n",
       "                       0.1005,  0.6732,  0.4765,  0.2798, -0.1270, -0.3641, -0.3512, -0.5100,\n",
       "                       0.5721, -0.2488,  0.1977, -0.0851,  0.1257, -0.3512, -0.3683,  0.1111,\n",
       "                       0.3224,  0.3907], device='mps:0')),\n",
       "             ('_orig_mod.2.weight',\n",
       "              tensor([[-0.0454, -0.1037, -0.0250,  ..., -0.0110, -0.0471, -0.0458],\n",
       "                      [ 0.0045, -0.0900, -0.1087,  ..., -0.0683, -0.0950, -0.0258],\n",
       "                      [ 0.3092, -0.1174,  0.3066,  ..., -0.0802, -0.1068,  0.1444],\n",
       "                      ...,\n",
       "                      [-0.0762, -0.1173, -0.0232,  ..., -0.0570, -0.1652, -0.1908],\n",
       "                      [ 0.1537, -0.3456,  0.1439,  ..., -0.0171, -0.0428,  0.1841],\n",
       "                      [ 0.2294, -0.2353,  0.2608,  ..., -0.0434,  0.0467,  0.3193]],\n",
       "                     device='mps:0')),\n",
       "             ('_orig_mod.2.bias',\n",
       "              tensor([ 0.1205, -0.0682,  0.1156,  0.0409, -0.0135,  0.1714,  0.1827,  0.1573,\n",
       "                      -0.0772,  0.0977,  0.0263,  0.4057,  0.2661,  0.1116,  0.0230,  0.3525,\n",
       "                       0.0513,  0.3445,  0.3943, -0.1389,  0.3361,  0.0271,  0.0107,  0.3312,\n",
       "                       0.1280], device='mps:0')),\n",
       "             ('_orig_mod.4.weight',\n",
       "              tensor([[-0.0742, -0.0800, -0.2178,  0.2558,  0.0080,  0.3288,  0.2986,  0.0701,\n",
       "                        0.1301,  0.1935, -0.4237, -0.2752, -0.1706, -0.3545, -0.3136, -0.3571,\n",
       "                        0.3599, -0.0348,  0.3637, -0.1970,  0.0987,  0.1924, -0.0470, -0.4372,\n",
       "                       -0.3947],\n",
       "                      [-0.0485, -0.0570,  0.1071, -0.1591,  0.0961,  0.1658, -0.2795, -0.3228,\n",
       "                       -0.3035, -0.3338, -0.0191,  0.3956,  0.3580, -0.1358, -0.0597,  0.2372,\n",
       "                       -0.2250,  0.3803,  0.2018, -0.0304,  0.2479, -0.0620,  0.0252, -0.0627,\n",
       "                        0.0332],\n",
       "                      [-0.0237, -0.0306,  0.2029, -0.1969, -0.0918, -0.5158, -0.1371, -0.3768,\n",
       "                        0.0173, -0.2011,  0.3033, -0.1895, -0.1761,  0.2582,  0.3299, -0.3068,\n",
       "                        0.0384, -0.2740, -0.5334,  0.2279, -0.3835, -0.1033, -0.0627, -0.0298,\n",
       "                        0.3241]], device='mps:0')),\n",
       "             ('_orig_mod.4.bias',\n",
       "              tensor([-0.2809,  0.2465, -0.2759], device='mps:0'))])"
      ]
     },
     "execution_count": 21,
     "metadata": {},
     "output_type": "execute_result"
    }
   ],
   "source": [
    "model.state_dict()"
   ]
  },
  {
   "cell_type": "code",
   "execution_count": 22,
   "metadata": {},
   "outputs": [],
   "source": [
    "torch.save(model.state_dict(), \"iris.pkl\")"
   ]
  },
  {
   "cell_type": "markdown",
   "metadata": {},
   "source": [
    "## Defining NN as Classes"
   ]
  },
  {
   "cell_type": "code",
   "execution_count": null,
   "metadata": {},
   "outputs": [],
   "source": []
  }
 ],
 "metadata": {
  "kernelspec": {
   "display_name": "torch_new_venv",
   "language": "python",
   "name": "python3"
  },
  "language_info": {
   "codemirror_mode": {
    "name": "ipython",
    "version": 3
   },
   "file_extension": ".py",
   "mimetype": "text/x-python",
   "name": "python",
   "nbconvert_exporter": "python",
   "pygments_lexer": "ipython3",
   "version": "3.10.12"
  },
  "orig_nbformat": 4
 },
 "nbformat": 4,
 "nbformat_minor": 2
}
