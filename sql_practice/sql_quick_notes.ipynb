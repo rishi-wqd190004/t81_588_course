{
 "cells": [
  {
   "cell_type": "markdown",
   "metadata": {},
   "source": [
    "## SQL"
   ]
  },
  {
   "cell_type": "markdown",
   "metadata": {},
   "source": [
    "### Passing regex for voval starting string\n",
    "\n",
    "    select distinct CITY\n",
    "    from STATION\n",
    "    where CITY REGEXP '^[aeiou]'\n",
    "\n",
    "### ORDER BY\n",
    "- Can add RIGHT(Col_name,spaces) --> RIGHT(NAME,2) - will check last two character for string in NAME\n",
    "\n",
    "### Calculate median\n",
    "- use rowindex for getting each line index \n",
    "\n",
    "SET @rowindex := -1 \n",
    "SELECT AVG(g.col) as Median \n",
    "FROM (SELECT @rowindex:=@rowindex +1 as rowindex, col_on_median FROM table ORDER BY col_on_median) as g \n",
    "WHERE g.rowindex IN (FLOOR(@rowindex/2), CEIL(@rowindex/2)) "
   ]
  },
  {
   "cell_type": "markdown",
   "metadata": {},
   "source": [
    "## Window Functions\n",
    "- Calculation on set of rows."
   ]
  },
  {
   "cell_type": "markdown",
   "metadata": {},
   "source": [
    "### OVER()\n",
    "\n",
    "General syntax: \n",
    "```\n",
    "window_function_name ( expression ) OVER ( -- window_function_name could be ROW_NUMBER(), RANK(), SUM() and expression could be target column \n",
    "    partition_clause -- PARTITION BY expr1, expr2, expr3.... \n",
    "    order_clause -- ORDER BY expression [ASC | DESC] [NULL {FIRST|LAST}], .... \n",
    "    frame_clause -- {RANGE|ROWS} frame_start \n",
    "                    {RANGE|ROWS} BETWEEN frame_start AND frame_end       \n",
    ")\n",
    "```"
   ]
  },
  {
   "cell_type": "markdown",
   "metadata": {},
   "source": [
    "### Types of windows functions:\n",
    "- Value window functions\n",
    "    - FIRST_VALUE()\n",
    "    \n",
    "- Ranking window functions\n",
    "\n",
    "- Aggregate window functions\n"
   ]
  },
  {
   "cell_type": "markdown",
   "metadata": {},
   "source": [
    "### FIRST_VALUE()"
   ]
  },
  {
   "cell_type": "markdown",
   "metadata": {},
   "source": [
    "- will return first value in an ordered set of values\n",
    "- example: [FIRST_VALUE](window_func_practice.sql)"
   ]
  },
  {
   "cell_type": "markdown",
   "metadata": {},
   "source": []
  }
 ],
 "metadata": {
  "language_info": {
   "name": "python"
  }
 },
 "nbformat": 4,
 "nbformat_minor": 2
}
