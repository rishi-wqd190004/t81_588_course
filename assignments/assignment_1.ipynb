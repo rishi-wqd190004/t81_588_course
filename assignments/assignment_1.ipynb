{
 "cells": [
  {
   "cell_type": "code",
   "execution_count": 28,
   "metadata": {},
   "outputs": [],
   "source": [
    "import pandas as pd\n",
    "import numpy as np\n",
    "\n",
    "from scipy.stats import zscore\n",
    "\n",
    "from sklearn.preprocessing import OneHotEncoder"
   ]
  },
  {
   "cell_type": "code",
   "execution_count": 2,
   "metadata": {},
   "outputs": [],
   "source": [
    "df = pd.read_csv('http://data.heatonresearch.com/data/t81-558/datasets/reg-33-data.csv')"
   ]
  },
  {
   "cell_type": "code",
   "execution_count": 3,
   "metadata": {},
   "outputs": [
    {
     "data": {
      "text/html": [
       "<div>\n",
       "<style scoped>\n",
       "    .dataframe tbody tr th:only-of-type {\n",
       "        vertical-align: middle;\n",
       "    }\n",
       "\n",
       "    .dataframe tbody tr th {\n",
       "        vertical-align: top;\n",
       "    }\n",
       "\n",
       "    .dataframe thead th {\n",
       "        text-align: right;\n",
       "    }\n",
       "</style>\n",
       "<table border=\"1\" class=\"dataframe\">\n",
       "  <thead>\n",
       "    <tr style=\"text-align: right;\">\n",
       "      <th></th>\n",
       "      <th>id</th>\n",
       "      <th>convention</th>\n",
       "      <th>height</th>\n",
       "      <th>max</th>\n",
       "      <th>cat2</th>\n",
       "      <th>number</th>\n",
       "      <th>usage</th>\n",
       "      <th>region</th>\n",
       "      <th>length</th>\n",
       "      <th>code</th>\n",
       "      <th>power</th>\n",
       "      <th>item</th>\n",
       "      <th>weight</th>\n",
       "      <th>country</th>\n",
       "      <th>target</th>\n",
       "    </tr>\n",
       "  </thead>\n",
       "  <tbody>\n",
       "    <tr>\n",
       "      <th>0</th>\n",
       "      <td>1</td>\n",
       "      <td>CO-1A</td>\n",
       "      <td>4284.51</td>\n",
       "      <td>44907</td>\n",
       "      <td>CA-E</td>\n",
       "      <td>16669</td>\n",
       "      <td>US-7</td>\n",
       "      <td>RE-4</td>\n",
       "      <td>12471.1127</td>\n",
       "      <td>CO-B</td>\n",
       "      <td>27351.36</td>\n",
       "      <td>IT-17</td>\n",
       "      <td>13722</td>\n",
       "      <td>CO-1</td>\n",
       "      <td>44098.106769</td>\n",
       "    </tr>\n",
       "    <tr>\n",
       "      <th>1</th>\n",
       "      <td>2</td>\n",
       "      <td>CO-C</td>\n",
       "      <td>806.88</td>\n",
       "      <td>48831</td>\n",
       "      <td>CA-A</td>\n",
       "      <td>8652</td>\n",
       "      <td>US-20</td>\n",
       "      <td>RE-15</td>\n",
       "      <td>10035.7085</td>\n",
       "      <td>CO-E</td>\n",
       "      <td>42323.89</td>\n",
       "      <td>IT-1E</td>\n",
       "      <td>33779</td>\n",
       "      <td>CO-0</td>\n",
       "      <td>95567.294044</td>\n",
       "    </tr>\n",
       "  </tbody>\n",
       "</table>\n",
       "</div>"
      ],
      "text/plain": [
       "   id convention   height    max  cat2  number  usage region      length  \\\n",
       "0   1      CO-1A  4284.51  44907  CA-E   16669   US-7   RE-4  12471.1127   \n",
       "1   2       CO-C   806.88  48831  CA-A    8652  US-20  RE-15  10035.7085   \n",
       "\n",
       "   code     power   item  weight country        target  \n",
       "0  CO-B  27351.36  IT-17   13722    CO-1  44098.106769  \n",
       "1  CO-E  42323.89  IT-1E   33779    CO-0  95567.294044  "
      ]
     },
     "execution_count": 3,
     "metadata": {},
     "output_type": "execute_result"
    }
   ],
   "source": [
    "df.head(2)"
   ]
  },
  {
   "cell_type": "code",
   "execution_count": 4,
   "metadata": {},
   "outputs": [
    {
     "name": "stdout",
     "output_type": "stream",
     "text": [
      "<class 'pandas.core.frame.DataFrame'>\n",
      "RangeIndex: 10809 entries, 0 to 10808\n",
      "Data columns (total 15 columns):\n",
      " #   Column      Non-Null Count  Dtype  \n",
      "---  ------      --------------  -----  \n",
      " 0   id          10809 non-null  int64  \n",
      " 1   convention  10809 non-null  object \n",
      " 2   height      8971 non-null   float64\n",
      " 3   max         10809 non-null  int64  \n",
      " 4   cat2        10809 non-null  object \n",
      " 5   number      10809 non-null  int64  \n",
      " 6   usage       10809 non-null  object \n",
      " 7   region      10809 non-null  object \n",
      " 8   length      10646 non-null  float64\n",
      " 9   code        10809 non-null  object \n",
      " 10  power       10809 non-null  float64\n",
      " 11  item        10809 non-null  object \n",
      " 12  weight      10809 non-null  int64  \n",
      " 13  country     10809 non-null  object \n",
      " 14  target      10809 non-null  float64\n",
      "dtypes: float64(4), int64(4), object(7)\n",
      "memory usage: 1.2+ MB\n"
     ]
    }
   ],
   "source": [
    "df.info()"
   ]
  },
  {
   "cell_type": "markdown",
   "metadata": {},
   "source": [
    "### 1. Add a column named ratio that is max divided by number. Leave max and number in the dataframe."
   ]
  },
  {
   "cell_type": "code",
   "execution_count": 5,
   "metadata": {},
   "outputs": [],
   "source": [
    "df['ratio'] = df['max']/df['number']"
   ]
  },
  {
   "cell_type": "code",
   "execution_count": 6,
   "metadata": {},
   "outputs": [
    {
     "data": {
      "text/html": [
       "<div>\n",
       "<style scoped>\n",
       "    .dataframe tbody tr th:only-of-type {\n",
       "        vertical-align: middle;\n",
       "    }\n",
       "\n",
       "    .dataframe tbody tr th {\n",
       "        vertical-align: top;\n",
       "    }\n",
       "\n",
       "    .dataframe thead th {\n",
       "        text-align: right;\n",
       "    }\n",
       "</style>\n",
       "<table border=\"1\" class=\"dataframe\">\n",
       "  <thead>\n",
       "    <tr style=\"text-align: right;\">\n",
       "      <th></th>\n",
       "      <th>id</th>\n",
       "      <th>convention</th>\n",
       "      <th>height</th>\n",
       "      <th>max</th>\n",
       "      <th>cat2</th>\n",
       "      <th>number</th>\n",
       "      <th>usage</th>\n",
       "      <th>region</th>\n",
       "      <th>length</th>\n",
       "      <th>code</th>\n",
       "      <th>power</th>\n",
       "      <th>item</th>\n",
       "      <th>weight</th>\n",
       "      <th>country</th>\n",
       "      <th>target</th>\n",
       "      <th>ratio</th>\n",
       "    </tr>\n",
       "  </thead>\n",
       "  <tbody>\n",
       "    <tr>\n",
       "      <th>0</th>\n",
       "      <td>1</td>\n",
       "      <td>CO-1A</td>\n",
       "      <td>4284.51</td>\n",
       "      <td>44907</td>\n",
       "      <td>CA-E</td>\n",
       "      <td>16669</td>\n",
       "      <td>US-7</td>\n",
       "      <td>RE-4</td>\n",
       "      <td>12471.1127</td>\n",
       "      <td>CO-B</td>\n",
       "      <td>27351.36</td>\n",
       "      <td>IT-17</td>\n",
       "      <td>13722</td>\n",
       "      <td>CO-1</td>\n",
       "      <td>44098.106769</td>\n",
       "      <td>2.694043</td>\n",
       "    </tr>\n",
       "    <tr>\n",
       "      <th>1</th>\n",
       "      <td>2</td>\n",
       "      <td>CO-C</td>\n",
       "      <td>806.88</td>\n",
       "      <td>48831</td>\n",
       "      <td>CA-A</td>\n",
       "      <td>8652</td>\n",
       "      <td>US-20</td>\n",
       "      <td>RE-15</td>\n",
       "      <td>10035.7085</td>\n",
       "      <td>CO-E</td>\n",
       "      <td>42323.89</td>\n",
       "      <td>IT-1E</td>\n",
       "      <td>33779</td>\n",
       "      <td>CO-0</td>\n",
       "      <td>95567.294044</td>\n",
       "      <td>5.643897</td>\n",
       "    </tr>\n",
       "  </tbody>\n",
       "</table>\n",
       "</div>"
      ],
      "text/plain": [
       "   id convention   height    max  cat2  number  usage region      length  \\\n",
       "0   1      CO-1A  4284.51  44907  CA-E   16669   US-7   RE-4  12471.1127   \n",
       "1   2       CO-C   806.88  48831  CA-A    8652  US-20  RE-15  10035.7085   \n",
       "\n",
       "   code     power   item  weight country        target     ratio  \n",
       "0  CO-B  27351.36  IT-17   13722    CO-1  44098.106769  2.694043  \n",
       "1  CO-E  42323.89  IT-1E   33779    CO-0  95567.294044  5.643897  "
      ]
     },
     "execution_count": 6,
     "metadata": {},
     "output_type": "execute_result"
    }
   ],
   "source": [
    "df.head(2)"
   ]
  },
  {
   "cell_type": "markdown",
   "metadata": {},
   "source": [
    "### 2.Replace the cat2 column with dummy variables. e.g. 'cat2_CA-0', 'cat2_CA-1', 'cat2_CA-10', 'cat2_CA-11', 'cat2_CA-12', ..."
   ]
  },
  {
   "cell_type": "code",
   "execution_count": 7,
   "metadata": {},
   "outputs": [
    {
     "data": {
      "text/plain": [
       "array(['CA-E', 'CA-A', 'CA-16', 'CA-9', 'CA-17', 'CA-1F', 'CA-22',\n",
       "       'CA-18', 'CA-F', 'CA-C', 'CA-1A', 'CA-21', 'CA-3', 'CA-19',\n",
       "       'CA-13', 'CA-12', 'CA-1D', 'CA-1', 'CA-24', 'CA-7', 'CA-1C',\n",
       "       'CA-25', 'CA-8', 'CA-14', 'CA-1E', 'CA-23', 'CA-5', 'CA-1B',\n",
       "       'CA-0', 'CA-15', 'CA-11', 'CA-10', 'CA-26', 'CA-27', 'CA-D',\n",
       "       'CA-20', 'CA-4', 'CA-B', 'CA-6', 'CA-2'], dtype=object)"
      ]
     },
     "execution_count": 7,
     "metadata": {},
     "output_type": "execute_result"
    }
   ],
   "source": [
    "df['cat2'].unique()"
   ]
  },
  {
   "cell_type": "code",
   "execution_count": 12,
   "metadata": {},
   "outputs": [],
   "source": [
    "df['cat2'] = 'cat2_' + df['cat2'].values"
   ]
  },
  {
   "cell_type": "code",
   "execution_count": 13,
   "metadata": {},
   "outputs": [
    {
     "data": {
      "text/html": [
       "<div>\n",
       "<style scoped>\n",
       "    .dataframe tbody tr th:only-of-type {\n",
       "        vertical-align: middle;\n",
       "    }\n",
       "\n",
       "    .dataframe tbody tr th {\n",
       "        vertical-align: top;\n",
       "    }\n",
       "\n",
       "    .dataframe thead th {\n",
       "        text-align: right;\n",
       "    }\n",
       "</style>\n",
       "<table border=\"1\" class=\"dataframe\">\n",
       "  <thead>\n",
       "    <tr style=\"text-align: right;\">\n",
       "      <th></th>\n",
       "      <th>id</th>\n",
       "      <th>convention</th>\n",
       "      <th>height</th>\n",
       "      <th>max</th>\n",
       "      <th>cat2</th>\n",
       "      <th>number</th>\n",
       "      <th>usage</th>\n",
       "      <th>region</th>\n",
       "      <th>length</th>\n",
       "      <th>code</th>\n",
       "      <th>power</th>\n",
       "      <th>item</th>\n",
       "      <th>weight</th>\n",
       "      <th>country</th>\n",
       "      <th>target</th>\n",
       "      <th>ratio</th>\n",
       "    </tr>\n",
       "  </thead>\n",
       "  <tbody>\n",
       "    <tr>\n",
       "      <th>0</th>\n",
       "      <td>1</td>\n",
       "      <td>CO-1A</td>\n",
       "      <td>4284.51</td>\n",
       "      <td>44907</td>\n",
       "      <td>cat2_CA-E</td>\n",
       "      <td>16669</td>\n",
       "      <td>US-7</td>\n",
       "      <td>RE-4</td>\n",
       "      <td>12471.1127</td>\n",
       "      <td>CO-B</td>\n",
       "      <td>27351.36</td>\n",
       "      <td>IT-17</td>\n",
       "      <td>13722</td>\n",
       "      <td>CO-1</td>\n",
       "      <td>44098.106769</td>\n",
       "      <td>2.694043</td>\n",
       "    </tr>\n",
       "    <tr>\n",
       "      <th>1</th>\n",
       "      <td>2</td>\n",
       "      <td>CO-C</td>\n",
       "      <td>806.88</td>\n",
       "      <td>48831</td>\n",
       "      <td>cat2_CA-A</td>\n",
       "      <td>8652</td>\n",
       "      <td>US-20</td>\n",
       "      <td>RE-15</td>\n",
       "      <td>10035.7085</td>\n",
       "      <td>CO-E</td>\n",
       "      <td>42323.89</td>\n",
       "      <td>IT-1E</td>\n",
       "      <td>33779</td>\n",
       "      <td>CO-0</td>\n",
       "      <td>95567.294044</td>\n",
       "      <td>5.643897</td>\n",
       "    </tr>\n",
       "  </tbody>\n",
       "</table>\n",
       "</div>"
      ],
      "text/plain": [
       "   id convention   height    max       cat2  number  usage region      length  \\\n",
       "0   1      CO-1A  4284.51  44907  cat2_CA-E   16669   US-7   RE-4  12471.1127   \n",
       "1   2       CO-C   806.88  48831  cat2_CA-A    8652  US-20  RE-15  10035.7085   \n",
       "\n",
       "   code     power   item  weight country        target     ratio  \n",
       "0  CO-B  27351.36  IT-17   13722    CO-1  44098.106769  2.694043  \n",
       "1  CO-E  42323.89  IT-1E   33779    CO-0  95567.294044  5.643897  "
      ]
     },
     "execution_count": 13,
     "metadata": {},
     "output_type": "execute_result"
    }
   ],
   "source": [
    "df.head(2)"
   ]
  },
  {
   "cell_type": "markdown",
   "metadata": {},
   "source": [
    "### 3.Replace the item column with dummy variables, e.g. 'item_IT-0', 'item_IT-1', 'item_IT-10', 'item_IT-11', 'item_IT-12', ..."
   ]
  },
  {
   "cell_type": "code",
   "execution_count": 14,
   "metadata": {},
   "outputs": [],
   "source": [
    "df['item'] = 'item_' + df['item'].values"
   ]
  },
  {
   "cell_type": "code",
   "execution_count": null,
   "metadata": {},
   "outputs": [],
   "source": [
    "# Applying One Hot Encoding\n",
    "ohe = OneHotEncoder()\n"
   ]
  },
  {
   "cell_type": "code",
   "execution_count": 15,
   "metadata": {},
   "outputs": [
    {
     "data": {
      "text/html": [
       "<div>\n",
       "<style scoped>\n",
       "    .dataframe tbody tr th:only-of-type {\n",
       "        vertical-align: middle;\n",
       "    }\n",
       "\n",
       "    .dataframe tbody tr th {\n",
       "        vertical-align: top;\n",
       "    }\n",
       "\n",
       "    .dataframe thead th {\n",
       "        text-align: right;\n",
       "    }\n",
       "</style>\n",
       "<table border=\"1\" class=\"dataframe\">\n",
       "  <thead>\n",
       "    <tr style=\"text-align: right;\">\n",
       "      <th></th>\n",
       "      <th>id</th>\n",
       "      <th>convention</th>\n",
       "      <th>height</th>\n",
       "      <th>max</th>\n",
       "      <th>cat2</th>\n",
       "      <th>number</th>\n",
       "      <th>usage</th>\n",
       "      <th>region</th>\n",
       "      <th>length</th>\n",
       "      <th>code</th>\n",
       "      <th>power</th>\n",
       "      <th>item</th>\n",
       "      <th>weight</th>\n",
       "      <th>country</th>\n",
       "      <th>target</th>\n",
       "      <th>ratio</th>\n",
       "    </tr>\n",
       "  </thead>\n",
       "  <tbody>\n",
       "    <tr>\n",
       "      <th>0</th>\n",
       "      <td>1</td>\n",
       "      <td>CO-1A</td>\n",
       "      <td>4284.51</td>\n",
       "      <td>44907</td>\n",
       "      <td>cat2_CA-E</td>\n",
       "      <td>16669</td>\n",
       "      <td>US-7</td>\n",
       "      <td>RE-4</td>\n",
       "      <td>12471.1127</td>\n",
       "      <td>CO-B</td>\n",
       "      <td>27351.36</td>\n",
       "      <td>item_IT-17</td>\n",
       "      <td>13722</td>\n",
       "      <td>CO-1</td>\n",
       "      <td>44098.106769</td>\n",
       "      <td>2.694043</td>\n",
       "    </tr>\n",
       "    <tr>\n",
       "      <th>1</th>\n",
       "      <td>2</td>\n",
       "      <td>CO-C</td>\n",
       "      <td>806.88</td>\n",
       "      <td>48831</td>\n",
       "      <td>cat2_CA-A</td>\n",
       "      <td>8652</td>\n",
       "      <td>US-20</td>\n",
       "      <td>RE-15</td>\n",
       "      <td>10035.7085</td>\n",
       "      <td>CO-E</td>\n",
       "      <td>42323.89</td>\n",
       "      <td>item_IT-1E</td>\n",
       "      <td>33779</td>\n",
       "      <td>CO-0</td>\n",
       "      <td>95567.294044</td>\n",
       "      <td>5.643897</td>\n",
       "    </tr>\n",
       "  </tbody>\n",
       "</table>\n",
       "</div>"
      ],
      "text/plain": [
       "   id convention   height    max       cat2  number  usage region      length  \\\n",
       "0   1      CO-1A  4284.51  44907  cat2_CA-E   16669   US-7   RE-4  12471.1127   \n",
       "1   2       CO-C   806.88  48831  cat2_CA-A    8652  US-20  RE-15  10035.7085   \n",
       "\n",
       "   code     power        item  weight country        target     ratio  \n",
       "0  CO-B  27351.36  item_IT-17   13722    CO-1  44098.106769  2.694043  \n",
       "1  CO-E  42323.89  item_IT-1E   33779    CO-0  95567.294044  5.643897  "
      ]
     },
     "execution_count": 15,
     "metadata": {},
     "output_type": "execute_result"
    }
   ],
   "source": [
    "df.head(2)"
   ]
  },
  {
   "cell_type": "markdown",
   "metadata": {},
   "source": [
    "### 4. For field length replace missing values with the median of length."
   ]
  },
  {
   "cell_type": "code",
   "execution_count": 17,
   "metadata": {},
   "outputs": [
    {
     "data": {
      "text/plain": [
       "163"
      ]
     },
     "execution_count": 17,
     "metadata": {},
     "output_type": "execute_result"
    }
   ],
   "source": [
    "df['length'].isna().sum()"
   ]
  },
  {
   "cell_type": "code",
   "execution_count": 18,
   "metadata": {},
   "outputs": [],
   "source": [
    "median = df['length'].median()\n",
    "df['length'] = df['length'].replace(np.nan, median)"
   ]
  },
  {
   "cell_type": "code",
   "execution_count": 19,
   "metadata": {},
   "outputs": [
    {
     "data": {
      "text/html": [
       "<div>\n",
       "<style scoped>\n",
       "    .dataframe tbody tr th:only-of-type {\n",
       "        vertical-align: middle;\n",
       "    }\n",
       "\n",
       "    .dataframe tbody tr th {\n",
       "        vertical-align: top;\n",
       "    }\n",
       "\n",
       "    .dataframe thead th {\n",
       "        text-align: right;\n",
       "    }\n",
       "</style>\n",
       "<table border=\"1\" class=\"dataframe\">\n",
       "  <thead>\n",
       "    <tr style=\"text-align: right;\">\n",
       "      <th></th>\n",
       "      <th>id</th>\n",
       "      <th>convention</th>\n",
       "      <th>height</th>\n",
       "      <th>max</th>\n",
       "      <th>cat2</th>\n",
       "      <th>number</th>\n",
       "      <th>usage</th>\n",
       "      <th>region</th>\n",
       "      <th>length</th>\n",
       "      <th>code</th>\n",
       "      <th>power</th>\n",
       "      <th>item</th>\n",
       "      <th>weight</th>\n",
       "      <th>country</th>\n",
       "      <th>target</th>\n",
       "      <th>ratio</th>\n",
       "    </tr>\n",
       "  </thead>\n",
       "  <tbody>\n",
       "    <tr>\n",
       "      <th>0</th>\n",
       "      <td>1</td>\n",
       "      <td>CO-1A</td>\n",
       "      <td>4284.51</td>\n",
       "      <td>44907</td>\n",
       "      <td>cat2_CA-E</td>\n",
       "      <td>16669</td>\n",
       "      <td>US-7</td>\n",
       "      <td>RE-4</td>\n",
       "      <td>12471.1127</td>\n",
       "      <td>CO-B</td>\n",
       "      <td>27351.36</td>\n",
       "      <td>item_IT-17</td>\n",
       "      <td>13722</td>\n",
       "      <td>CO-1</td>\n",
       "      <td>44098.106769</td>\n",
       "      <td>2.694043</td>\n",
       "    </tr>\n",
       "    <tr>\n",
       "      <th>1</th>\n",
       "      <td>2</td>\n",
       "      <td>CO-C</td>\n",
       "      <td>806.88</td>\n",
       "      <td>48831</td>\n",
       "      <td>cat2_CA-A</td>\n",
       "      <td>8652</td>\n",
       "      <td>US-20</td>\n",
       "      <td>RE-15</td>\n",
       "      <td>10035.7085</td>\n",
       "      <td>CO-E</td>\n",
       "      <td>42323.89</td>\n",
       "      <td>item_IT-1E</td>\n",
       "      <td>33779</td>\n",
       "      <td>CO-0</td>\n",
       "      <td>95567.294044</td>\n",
       "      <td>5.643897</td>\n",
       "    </tr>\n",
       "  </tbody>\n",
       "</table>\n",
       "</div>"
      ],
      "text/plain": [
       "   id convention   height    max       cat2  number  usage region      length  \\\n",
       "0   1      CO-1A  4284.51  44907  cat2_CA-E   16669   US-7   RE-4  12471.1127   \n",
       "1   2       CO-C   806.88  48831  cat2_CA-A    8652  US-20  RE-15  10035.7085   \n",
       "\n",
       "   code     power        item  weight country        target     ratio  \n",
       "0  CO-B  27351.36  item_IT-17   13722    CO-1  44098.106769  2.694043  \n",
       "1  CO-E  42323.89  item_IT-1E   33779    CO-0  95567.294044  5.643897  "
      ]
     },
     "execution_count": 19,
     "metadata": {},
     "output_type": "execute_result"
    }
   ],
   "source": [
    "df.head(2)"
   ]
  },
  {
   "cell_type": "code",
   "execution_count": 20,
   "metadata": {},
   "outputs": [
    {
     "data": {
      "text/plain": [
       "0"
      ]
     },
     "execution_count": 20,
     "metadata": {},
     "output_type": "execute_result"
    }
   ],
   "source": [
    "df['length'].isna().sum()"
   ]
  },
  {
   "cell_type": "markdown",
   "metadata": {},
   "source": [
    "### 5. For field height replace missing with median and convert to zscore."
   ]
  },
  {
   "cell_type": "code",
   "execution_count": 21,
   "metadata": {},
   "outputs": [
    {
     "data": {
      "text/plain": [
       "1838"
      ]
     },
     "execution_count": 21,
     "metadata": {},
     "output_type": "execute_result"
    }
   ],
   "source": [
    "df['height'].isna().sum()"
   ]
  },
  {
   "cell_type": "code",
   "execution_count": 23,
   "metadata": {},
   "outputs": [],
   "source": [
    "median_ht = df['height'].median()\n",
    "df['height'] = df['height'].replace(np.nan, median_ht)\n",
    "df['height'] = zscore(df['height'])"
   ]
  },
  {
   "cell_type": "code",
   "execution_count": 24,
   "metadata": {},
   "outputs": [
    {
     "data": {
      "text/html": [
       "<div>\n",
       "<style scoped>\n",
       "    .dataframe tbody tr th:only-of-type {\n",
       "        vertical-align: middle;\n",
       "    }\n",
       "\n",
       "    .dataframe tbody tr th {\n",
       "        vertical-align: top;\n",
       "    }\n",
       "\n",
       "    .dataframe thead th {\n",
       "        text-align: right;\n",
       "    }\n",
       "</style>\n",
       "<table border=\"1\" class=\"dataframe\">\n",
       "  <thead>\n",
       "    <tr style=\"text-align: right;\">\n",
       "      <th></th>\n",
       "      <th>id</th>\n",
       "      <th>convention</th>\n",
       "      <th>height</th>\n",
       "      <th>max</th>\n",
       "      <th>cat2</th>\n",
       "      <th>number</th>\n",
       "      <th>usage</th>\n",
       "      <th>region</th>\n",
       "      <th>length</th>\n",
       "      <th>code</th>\n",
       "      <th>power</th>\n",
       "      <th>item</th>\n",
       "      <th>weight</th>\n",
       "      <th>country</th>\n",
       "      <th>target</th>\n",
       "      <th>ratio</th>\n",
       "    </tr>\n",
       "  </thead>\n",
       "  <tbody>\n",
       "    <tr>\n",
       "      <th>0</th>\n",
       "      <td>1</td>\n",
       "      <td>CO-1A</td>\n",
       "      <td>0.453222</td>\n",
       "      <td>44907</td>\n",
       "      <td>cat2_CA-E</td>\n",
       "      <td>16669</td>\n",
       "      <td>US-7</td>\n",
       "      <td>RE-4</td>\n",
       "      <td>12471.1127</td>\n",
       "      <td>CO-B</td>\n",
       "      <td>27351.36</td>\n",
       "      <td>item_IT-17</td>\n",
       "      <td>13722</td>\n",
       "      <td>CO-1</td>\n",
       "      <td>44098.106769</td>\n",
       "      <td>2.694043</td>\n",
       "    </tr>\n",
       "    <tr>\n",
       "      <th>1</th>\n",
       "      <td>2</td>\n",
       "      <td>CO-C</td>\n",
       "      <td>-1.482176</td>\n",
       "      <td>48831</td>\n",
       "      <td>cat2_CA-A</td>\n",
       "      <td>8652</td>\n",
       "      <td>US-20</td>\n",
       "      <td>RE-15</td>\n",
       "      <td>10035.7085</td>\n",
       "      <td>CO-E</td>\n",
       "      <td>42323.89</td>\n",
       "      <td>item_IT-1E</td>\n",
       "      <td>33779</td>\n",
       "      <td>CO-0</td>\n",
       "      <td>95567.294044</td>\n",
       "      <td>5.643897</td>\n",
       "    </tr>\n",
       "  </tbody>\n",
       "</table>\n",
       "</div>"
      ],
      "text/plain": [
       "   id convention    height    max       cat2  number  usage region  \\\n",
       "0   1      CO-1A  0.453222  44907  cat2_CA-E   16669   US-7   RE-4   \n",
       "1   2       CO-C -1.482176  48831  cat2_CA-A    8652  US-20  RE-15   \n",
       "\n",
       "       length  code     power        item  weight country        target  \\\n",
       "0  12471.1127  CO-B  27351.36  item_IT-17   13722    CO-1  44098.106769   \n",
       "1  10035.7085  CO-E  42323.89  item_IT-1E   33779    CO-0  95567.294044   \n",
       "\n",
       "      ratio  \n",
       "0  2.694043  \n",
       "1  5.643897  "
      ]
     },
     "execution_count": 24,
     "metadata": {},
     "output_type": "execute_result"
    }
   ],
   "source": [
    "df.head(2)"
   ]
  },
  {
   "cell_type": "markdown",
   "metadata": {},
   "source": [
    "### 6. Remove all other columns and show only selected columns\n",
    "cols_lst = ['height', 'max', 'number', 'length', 'ratio', 'cat2_CA-0', 'cat2_CA-1', 'cat2_CA-10', 'cat2_CA-11', 'cat2_CA-12', 'cat2_CA-13', 'cat2_CA-14', 'cat2_CA-15', 'cat2_CA-16', 'cat2_CA-17', 'cat2_CA-18', 'cat2_CA-19', 'cat2_CA-1A', 'cat2_CA-1B', 'cat2_CA-1C', 'cat2_CA-1D', 'cat2_CA-1E', 'cat2_CA-1F', 'cat2_CA-2', 'cat2_CA-20', 'cat2_CA-21', 'cat2_CA-22', 'cat2_CA-23', 'cat2_CA-24', 'cat2_CA-25', 'cat2_CA-26', 'cat2_CA-27', 'cat2_CA-3', 'cat2_CA-4', 'cat2_CA-5', 'cat2_CA-6', 'cat2_CA-7', 'cat2_CA-8', 'cat2_CA-9', 'cat2_CA-A', 'cat2_CA-B', 'cat2_CA-C', 'cat2_CA-D', 'cat2_CA-E', 'cat2_CA-F', 'item_IT-0', 'item_IT-1', 'item_IT-10', 'item_IT-11', 'item_IT-12', 'item_IT-13', 'item_IT-14', 'item_IT-15', 'item_IT-16', 'item_IT-17', 'item_IT-18', 'item_IT-19', 'item_IT-1A', 'item_IT-1B', 'item_IT-1C', 'item_IT-1D', 'item_IT-1E', 'item_IT-2', 'item_IT-3', 'item_IT-4', 'item_IT-5', 'item_IT-6', 'item_IT-7', 'item_IT-8', 'item_IT-9', 'item_IT-A', 'item_IT-B', 'item_IT-C', 'item_IT-D', 'item_IT-E', 'item_IT-F']"
   ]
  },
  {
   "cell_type": "code",
   "execution_count": 26,
   "metadata": {},
   "outputs": [
    {
     "data": {
      "text/plain": [
       "Index(['id', 'convention', 'height', 'max', 'cat2', 'number', 'usage',\n",
       "       'region', 'length', 'code', 'power', 'item', 'weight', 'country',\n",
       "       'target', 'ratio'],\n",
       "      dtype='object')"
      ]
     },
     "execution_count": 26,
     "metadata": {},
     "output_type": "execute_result"
    }
   ],
   "source": [
    "df.columns"
   ]
  },
  {
   "cell_type": "code",
   "execution_count": 25,
   "metadata": {},
   "outputs": [
    {
     "ename": "KeyError",
     "evalue": "\"['cat2_CA-0', 'cat2_CA-1', 'cat2_CA-10', 'cat2_CA-11', 'cat2_CA-12', 'cat2_CA-13', 'cat2_CA-14', 'cat2_CA-15', 'cat2_CA-16', 'cat2_CA-17', 'cat2_CA-18', 'cat2_CA-19', 'cat2_CA-1A', 'cat2_CA-1B', 'cat2_CA-1C', 'cat2_CA-1D', 'cat2_CA-1E', 'cat2_CA-1F', 'cat2_CA-2', 'cat2_CA-20', 'cat2_CA-21', 'cat2_CA-22', 'cat2_CA-23', 'cat2_CA-24', 'cat2_CA-25', 'cat2_CA-26', 'cat2_CA-27', 'cat2_CA-3', 'cat2_CA-4', 'cat2_CA-5', 'cat2_CA-6', 'cat2_CA-7', 'cat2_CA-8', 'cat2_CA-9', 'cat2_CA-A', 'cat2_CA-B', 'cat2_CA-C', 'cat2_CA-D', 'cat2_CA-E', 'cat2_CA-F', 'item_IT-0', 'item_IT-1', 'item_IT-10', 'item_IT-11', 'item_IT-12', 'item_IT-13', 'item_IT-14', 'item_IT-15', 'item_IT-16', 'item_IT-17', 'item_IT-18', 'item_IT-19', 'item_IT-1A', 'item_IT-1B', 'item_IT-1C', 'item_IT-1D', 'item_IT-1E', 'item_IT-2', 'item_IT-3', 'item_IT-4', 'item_IT-5', 'item_IT-6', 'item_IT-7', 'item_IT-8', 'item_IT-9', 'item_IT-A', 'item_IT-B', 'item_IT-C', 'item_IT-D', 'item_IT-E', 'item_IT-F'] not in index\"",
     "output_type": "error",
     "traceback": [
      "\u001b[0;31m---------------------------------------------------------------------------\u001b[0m",
      "\u001b[0;31mKeyError\u001b[0m                                  Traceback (most recent call last)",
      "Cell \u001b[0;32mIn[25], line 2\u001b[0m\n\u001b[1;32m      1\u001b[0m cols_lst \u001b[39m=\u001b[39m [\u001b[39m'\u001b[39m\u001b[39mheight\u001b[39m\u001b[39m'\u001b[39m, \u001b[39m'\u001b[39m\u001b[39mmax\u001b[39m\u001b[39m'\u001b[39m, \u001b[39m'\u001b[39m\u001b[39mnumber\u001b[39m\u001b[39m'\u001b[39m, \u001b[39m'\u001b[39m\u001b[39mlength\u001b[39m\u001b[39m'\u001b[39m, \u001b[39m'\u001b[39m\u001b[39mratio\u001b[39m\u001b[39m'\u001b[39m, \u001b[39m'\u001b[39m\u001b[39mcat2_CA-0\u001b[39m\u001b[39m'\u001b[39m, \u001b[39m'\u001b[39m\u001b[39mcat2_CA-1\u001b[39m\u001b[39m'\u001b[39m, \u001b[39m'\u001b[39m\u001b[39mcat2_CA-10\u001b[39m\u001b[39m'\u001b[39m, \u001b[39m'\u001b[39m\u001b[39mcat2_CA-11\u001b[39m\u001b[39m'\u001b[39m, \u001b[39m'\u001b[39m\u001b[39mcat2_CA-12\u001b[39m\u001b[39m'\u001b[39m, \u001b[39m'\u001b[39m\u001b[39mcat2_CA-13\u001b[39m\u001b[39m'\u001b[39m, \u001b[39m'\u001b[39m\u001b[39mcat2_CA-14\u001b[39m\u001b[39m'\u001b[39m, \u001b[39m'\u001b[39m\u001b[39mcat2_CA-15\u001b[39m\u001b[39m'\u001b[39m, \u001b[39m'\u001b[39m\u001b[39mcat2_CA-16\u001b[39m\u001b[39m'\u001b[39m, \u001b[39m'\u001b[39m\u001b[39mcat2_CA-17\u001b[39m\u001b[39m'\u001b[39m, \u001b[39m'\u001b[39m\u001b[39mcat2_CA-18\u001b[39m\u001b[39m'\u001b[39m, \u001b[39m'\u001b[39m\u001b[39mcat2_CA-19\u001b[39m\u001b[39m'\u001b[39m, \u001b[39m'\u001b[39m\u001b[39mcat2_CA-1A\u001b[39m\u001b[39m'\u001b[39m, \u001b[39m'\u001b[39m\u001b[39mcat2_CA-1B\u001b[39m\u001b[39m'\u001b[39m, \u001b[39m'\u001b[39m\u001b[39mcat2_CA-1C\u001b[39m\u001b[39m'\u001b[39m, \u001b[39m'\u001b[39m\u001b[39mcat2_CA-1D\u001b[39m\u001b[39m'\u001b[39m, \u001b[39m'\u001b[39m\u001b[39mcat2_CA-1E\u001b[39m\u001b[39m'\u001b[39m, \u001b[39m'\u001b[39m\u001b[39mcat2_CA-1F\u001b[39m\u001b[39m'\u001b[39m, \u001b[39m'\u001b[39m\u001b[39mcat2_CA-2\u001b[39m\u001b[39m'\u001b[39m, \u001b[39m'\u001b[39m\u001b[39mcat2_CA-20\u001b[39m\u001b[39m'\u001b[39m, \u001b[39m'\u001b[39m\u001b[39mcat2_CA-21\u001b[39m\u001b[39m'\u001b[39m, \u001b[39m'\u001b[39m\u001b[39mcat2_CA-22\u001b[39m\u001b[39m'\u001b[39m, \u001b[39m'\u001b[39m\u001b[39mcat2_CA-23\u001b[39m\u001b[39m'\u001b[39m, \u001b[39m'\u001b[39m\u001b[39mcat2_CA-24\u001b[39m\u001b[39m'\u001b[39m, \u001b[39m'\u001b[39m\u001b[39mcat2_CA-25\u001b[39m\u001b[39m'\u001b[39m, \u001b[39m'\u001b[39m\u001b[39mcat2_CA-26\u001b[39m\u001b[39m'\u001b[39m, \u001b[39m'\u001b[39m\u001b[39mcat2_CA-27\u001b[39m\u001b[39m'\u001b[39m, \u001b[39m'\u001b[39m\u001b[39mcat2_CA-3\u001b[39m\u001b[39m'\u001b[39m, \u001b[39m'\u001b[39m\u001b[39mcat2_CA-4\u001b[39m\u001b[39m'\u001b[39m, \u001b[39m'\u001b[39m\u001b[39mcat2_CA-5\u001b[39m\u001b[39m'\u001b[39m, \u001b[39m'\u001b[39m\u001b[39mcat2_CA-6\u001b[39m\u001b[39m'\u001b[39m, \u001b[39m'\u001b[39m\u001b[39mcat2_CA-7\u001b[39m\u001b[39m'\u001b[39m, \u001b[39m'\u001b[39m\u001b[39mcat2_CA-8\u001b[39m\u001b[39m'\u001b[39m, \u001b[39m'\u001b[39m\u001b[39mcat2_CA-9\u001b[39m\u001b[39m'\u001b[39m, \u001b[39m'\u001b[39m\u001b[39mcat2_CA-A\u001b[39m\u001b[39m'\u001b[39m, \u001b[39m'\u001b[39m\u001b[39mcat2_CA-B\u001b[39m\u001b[39m'\u001b[39m, \u001b[39m'\u001b[39m\u001b[39mcat2_CA-C\u001b[39m\u001b[39m'\u001b[39m, \u001b[39m'\u001b[39m\u001b[39mcat2_CA-D\u001b[39m\u001b[39m'\u001b[39m, \u001b[39m'\u001b[39m\u001b[39mcat2_CA-E\u001b[39m\u001b[39m'\u001b[39m, \u001b[39m'\u001b[39m\u001b[39mcat2_CA-F\u001b[39m\u001b[39m'\u001b[39m, \u001b[39m'\u001b[39m\u001b[39mitem_IT-0\u001b[39m\u001b[39m'\u001b[39m, \u001b[39m'\u001b[39m\u001b[39mitem_IT-1\u001b[39m\u001b[39m'\u001b[39m, \u001b[39m'\u001b[39m\u001b[39mitem_IT-10\u001b[39m\u001b[39m'\u001b[39m, \u001b[39m'\u001b[39m\u001b[39mitem_IT-11\u001b[39m\u001b[39m'\u001b[39m, \u001b[39m'\u001b[39m\u001b[39mitem_IT-12\u001b[39m\u001b[39m'\u001b[39m, \u001b[39m'\u001b[39m\u001b[39mitem_IT-13\u001b[39m\u001b[39m'\u001b[39m, \u001b[39m'\u001b[39m\u001b[39mitem_IT-14\u001b[39m\u001b[39m'\u001b[39m, \u001b[39m'\u001b[39m\u001b[39mitem_IT-15\u001b[39m\u001b[39m'\u001b[39m, \u001b[39m'\u001b[39m\u001b[39mitem_IT-16\u001b[39m\u001b[39m'\u001b[39m, \u001b[39m'\u001b[39m\u001b[39mitem_IT-17\u001b[39m\u001b[39m'\u001b[39m, \u001b[39m'\u001b[39m\u001b[39mitem_IT-18\u001b[39m\u001b[39m'\u001b[39m, \u001b[39m'\u001b[39m\u001b[39mitem_IT-19\u001b[39m\u001b[39m'\u001b[39m, \u001b[39m'\u001b[39m\u001b[39mitem_IT-1A\u001b[39m\u001b[39m'\u001b[39m, \u001b[39m'\u001b[39m\u001b[39mitem_IT-1B\u001b[39m\u001b[39m'\u001b[39m, \u001b[39m'\u001b[39m\u001b[39mitem_IT-1C\u001b[39m\u001b[39m'\u001b[39m, \u001b[39m'\u001b[39m\u001b[39mitem_IT-1D\u001b[39m\u001b[39m'\u001b[39m, \u001b[39m'\u001b[39m\u001b[39mitem_IT-1E\u001b[39m\u001b[39m'\u001b[39m, \u001b[39m'\u001b[39m\u001b[39mitem_IT-2\u001b[39m\u001b[39m'\u001b[39m, \u001b[39m'\u001b[39m\u001b[39mitem_IT-3\u001b[39m\u001b[39m'\u001b[39m, \u001b[39m'\u001b[39m\u001b[39mitem_IT-4\u001b[39m\u001b[39m'\u001b[39m, \u001b[39m'\u001b[39m\u001b[39mitem_IT-5\u001b[39m\u001b[39m'\u001b[39m, \u001b[39m'\u001b[39m\u001b[39mitem_IT-6\u001b[39m\u001b[39m'\u001b[39m, \u001b[39m'\u001b[39m\u001b[39mitem_IT-7\u001b[39m\u001b[39m'\u001b[39m, \u001b[39m'\u001b[39m\u001b[39mitem_IT-8\u001b[39m\u001b[39m'\u001b[39m, \u001b[39m'\u001b[39m\u001b[39mitem_IT-9\u001b[39m\u001b[39m'\u001b[39m, \u001b[39m'\u001b[39m\u001b[39mitem_IT-A\u001b[39m\u001b[39m'\u001b[39m, \u001b[39m'\u001b[39m\u001b[39mitem_IT-B\u001b[39m\u001b[39m'\u001b[39m, \u001b[39m'\u001b[39m\u001b[39mitem_IT-C\u001b[39m\u001b[39m'\u001b[39m, \u001b[39m'\u001b[39m\u001b[39mitem_IT-D\u001b[39m\u001b[39m'\u001b[39m, \u001b[39m'\u001b[39m\u001b[39mitem_IT-E\u001b[39m\u001b[39m'\u001b[39m, \u001b[39m'\u001b[39m\u001b[39mitem_IT-F\u001b[39m\u001b[39m'\u001b[39m]\n\u001b[0;32m----> 2\u001b[0m df \u001b[39m=\u001b[39m df[cols_lst]\n",
      "File \u001b[0;32m~/miniconda3/envs/torch_new_venv/lib/python3.10/site-packages/pandas/core/frame.py:3767\u001b[0m, in \u001b[0;36mDataFrame.__getitem__\u001b[0;34m(self, key)\u001b[0m\n\u001b[1;32m   3765\u001b[0m     \u001b[39mif\u001b[39;00m is_iterator(key):\n\u001b[1;32m   3766\u001b[0m         key \u001b[39m=\u001b[39m \u001b[39mlist\u001b[39m(key)\n\u001b[0;32m-> 3767\u001b[0m     indexer \u001b[39m=\u001b[39m \u001b[39mself\u001b[39;49m\u001b[39m.\u001b[39;49mcolumns\u001b[39m.\u001b[39;49m_get_indexer_strict(key, \u001b[39m\"\u001b[39;49m\u001b[39mcolumns\u001b[39;49m\u001b[39m\"\u001b[39;49m)[\u001b[39m1\u001b[39m]\n\u001b[1;32m   3769\u001b[0m \u001b[39m# take() does not accept boolean indexers\u001b[39;00m\n\u001b[1;32m   3770\u001b[0m \u001b[39mif\u001b[39;00m \u001b[39mgetattr\u001b[39m(indexer, \u001b[39m\"\u001b[39m\u001b[39mdtype\u001b[39m\u001b[39m\"\u001b[39m, \u001b[39mNone\u001b[39;00m) \u001b[39m==\u001b[39m \u001b[39mbool\u001b[39m:\n",
      "File \u001b[0;32m~/miniconda3/envs/torch_new_venv/lib/python3.10/site-packages/pandas/core/indexes/base.py:5877\u001b[0m, in \u001b[0;36mIndex._get_indexer_strict\u001b[0;34m(self, key, axis_name)\u001b[0m\n\u001b[1;32m   5874\u001b[0m \u001b[39melse\u001b[39;00m:\n\u001b[1;32m   5875\u001b[0m     keyarr, indexer, new_indexer \u001b[39m=\u001b[39m \u001b[39mself\u001b[39m\u001b[39m.\u001b[39m_reindex_non_unique(keyarr)\n\u001b[0;32m-> 5877\u001b[0m \u001b[39mself\u001b[39;49m\u001b[39m.\u001b[39;49m_raise_if_missing(keyarr, indexer, axis_name)\n\u001b[1;32m   5879\u001b[0m keyarr \u001b[39m=\u001b[39m \u001b[39mself\u001b[39m\u001b[39m.\u001b[39mtake(indexer)\n\u001b[1;32m   5880\u001b[0m \u001b[39mif\u001b[39;00m \u001b[39misinstance\u001b[39m(key, Index):\n\u001b[1;32m   5881\u001b[0m     \u001b[39m# GH 42790 - Preserve name from an Index\u001b[39;00m\n",
      "File \u001b[0;32m~/miniconda3/envs/torch_new_venv/lib/python3.10/site-packages/pandas/core/indexes/base.py:5941\u001b[0m, in \u001b[0;36mIndex._raise_if_missing\u001b[0;34m(self, key, indexer, axis_name)\u001b[0m\n\u001b[1;32m   5938\u001b[0m     \u001b[39mraise\u001b[39;00m \u001b[39mKeyError\u001b[39;00m(\u001b[39mf\u001b[39m\u001b[39m\"\u001b[39m\u001b[39mNone of [\u001b[39m\u001b[39m{\u001b[39;00mkey\u001b[39m}\u001b[39;00m\u001b[39m] are in the [\u001b[39m\u001b[39m{\u001b[39;00maxis_name\u001b[39m}\u001b[39;00m\u001b[39m]\u001b[39m\u001b[39m\"\u001b[39m)\n\u001b[1;32m   5940\u001b[0m not_found \u001b[39m=\u001b[39m \u001b[39mlist\u001b[39m(ensure_index(key)[missing_mask\u001b[39m.\u001b[39mnonzero()[\u001b[39m0\u001b[39m]]\u001b[39m.\u001b[39munique())\n\u001b[0;32m-> 5941\u001b[0m \u001b[39mraise\u001b[39;00m \u001b[39mKeyError\u001b[39;00m(\u001b[39mf\u001b[39m\u001b[39m\"\u001b[39m\u001b[39m{\u001b[39;00mnot_found\u001b[39m}\u001b[39;00m\u001b[39m not in index\u001b[39m\u001b[39m\"\u001b[39m)\n",
      "\u001b[0;31mKeyError\u001b[0m: \"['cat2_CA-0', 'cat2_CA-1', 'cat2_CA-10', 'cat2_CA-11', 'cat2_CA-12', 'cat2_CA-13', 'cat2_CA-14', 'cat2_CA-15', 'cat2_CA-16', 'cat2_CA-17', 'cat2_CA-18', 'cat2_CA-19', 'cat2_CA-1A', 'cat2_CA-1B', 'cat2_CA-1C', 'cat2_CA-1D', 'cat2_CA-1E', 'cat2_CA-1F', 'cat2_CA-2', 'cat2_CA-20', 'cat2_CA-21', 'cat2_CA-22', 'cat2_CA-23', 'cat2_CA-24', 'cat2_CA-25', 'cat2_CA-26', 'cat2_CA-27', 'cat2_CA-3', 'cat2_CA-4', 'cat2_CA-5', 'cat2_CA-6', 'cat2_CA-7', 'cat2_CA-8', 'cat2_CA-9', 'cat2_CA-A', 'cat2_CA-B', 'cat2_CA-C', 'cat2_CA-D', 'cat2_CA-E', 'cat2_CA-F', 'item_IT-0', 'item_IT-1', 'item_IT-10', 'item_IT-11', 'item_IT-12', 'item_IT-13', 'item_IT-14', 'item_IT-15', 'item_IT-16', 'item_IT-17', 'item_IT-18', 'item_IT-19', 'item_IT-1A', 'item_IT-1B', 'item_IT-1C', 'item_IT-1D', 'item_IT-1E', 'item_IT-2', 'item_IT-3', 'item_IT-4', 'item_IT-5', 'item_IT-6', 'item_IT-7', 'item_IT-8', 'item_IT-9', 'item_IT-A', 'item_IT-B', 'item_IT-C', 'item_IT-D', 'item_IT-E', 'item_IT-F'] not in index\""
     ]
    }
   ],
   "source": [
    "cols_lst = ['height', 'max', 'number', 'length', 'ratio', 'cat2_CA-0', 'cat2_CA-1', 'cat2_CA-10', 'cat2_CA-11', 'cat2_CA-12', 'cat2_CA-13', 'cat2_CA-14', 'cat2_CA-15', 'cat2_CA-16', 'cat2_CA-17', 'cat2_CA-18', 'cat2_CA-19', 'cat2_CA-1A', 'cat2_CA-1B', 'cat2_CA-1C', 'cat2_CA-1D', 'cat2_CA-1E', 'cat2_CA-1F', 'cat2_CA-2', 'cat2_CA-20', 'cat2_CA-21', 'cat2_CA-22', 'cat2_CA-23', 'cat2_CA-24', 'cat2_CA-25', 'cat2_CA-26', 'cat2_CA-27', 'cat2_CA-3', 'cat2_CA-4', 'cat2_CA-5', 'cat2_CA-6', 'cat2_CA-7', 'cat2_CA-8', 'cat2_CA-9', 'cat2_CA-A', 'cat2_CA-B', 'cat2_CA-C', 'cat2_CA-D', 'cat2_CA-E', 'cat2_CA-F', 'item_IT-0', 'item_IT-1', 'item_IT-10', 'item_IT-11', 'item_IT-12', 'item_IT-13', 'item_IT-14', 'item_IT-15', 'item_IT-16', 'item_IT-17', 'item_IT-18', 'item_IT-19', 'item_IT-1A', 'item_IT-1B', 'item_IT-1C', 'item_IT-1D', 'item_IT-1E', 'item_IT-2', 'item_IT-3', 'item_IT-4', 'item_IT-5', 'item_IT-6', 'item_IT-7', 'item_IT-8', 'item_IT-9', 'item_IT-A', 'item_IT-B', 'item_IT-C', 'item_IT-D', 'item_IT-E', 'item_IT-F']\n",
    "df = df[cols_lst]"
   ]
  },
  {
   "cell_type": "code",
   "execution_count": null,
   "metadata": {},
   "outputs": [],
   "source": []
  }
 ],
 "metadata": {
  "kernelspec": {
   "display_name": "torch_new_venv",
   "language": "python",
   "name": "python3"
  },
  "language_info": {
   "codemirror_mode": {
    "name": "ipython",
    "version": 3
   },
   "file_extension": ".py",
   "mimetype": "text/x-python",
   "name": "python",
   "nbconvert_exporter": "python",
   "pygments_lexer": "ipython3",
   "version": "3.10.12"
  },
  "orig_nbformat": 4
 },
 "nbformat": 4,
 "nbformat_minor": 2
}
