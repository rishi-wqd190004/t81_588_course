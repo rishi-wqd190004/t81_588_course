{
 "cells": [
  {
   "cell_type": "code",
   "execution_count": 11,
   "metadata": {},
   "outputs": [],
   "source": [
    "import numpy as np\n",
    "import torch\n",
    "import torch.nn as nn\n",
    "import torch.optim as optim\n",
    "from torchvision import transforms\n",
    "from torchvision.datasets import ImageFolder\n",
    "from torch.utils.data import DataLoader\n",
    "from sklearn.metrics import accuracy_score\n",
    "\n",
    "from tqdm import tqdm\n",
    "import sys\n",
    "sys.path.insert(1, '../')\n",
    "from early_stopping_cls import EarlyStopping\n",
    "\n",
    "device = torch.device(\"mps\")"
   ]
  },
  {
   "cell_type": "code",
   "execution_count": 2,
   "metadata": {},
   "outputs": [],
   "source": [
    "PATH = '/Users/rishinigam/t81_588_course/datasets/iris-image'"
   ]
  },
  {
   "cell_type": "code",
   "execution_count": 7,
   "metadata": {},
   "outputs": [],
   "source": [
    "# transformation and data augmentation for training and validation\n",
    "train_transforms = transforms.Compose([\n",
    "    transforms.RandomHorizontalFlip(),\n",
    "    transforms.RandomVerticalFlip(),\n",
    "    transforms.RandomRotation(360),\n",
    "    transforms.RandomResizedCrop(256, scale=(0.5, 1.0)),\n",
    "    transforms.ToTensor(),\n",
    "    transforms.Normalize(mean=[0.485, 0.456, 0.406],\n",
    "                         std=[0.229, 0.224, 0.225])\n",
    "])\n",
    "\n",
    "val_transforms = transforms.Compose([\n",
    "    transforms.Resize(256),\n",
    "    transforms.CenterCrop(256),\n",
    "    transforms.ToTensor(),\n",
    "    transforms.Normalize(mean=[0.485, 0.456, 0.406],\n",
    "                         std=[0.229, 0.224, 0.225])\n",
    "])\n",
    "\n",
    "train_dataset = ImageFolder(root=PATH, transform=train_transforms)\n",
    "train_dataloader = DataLoader(train_dataset, batch_size=32, shuffle=True)\n",
    "\n",
    "val_dataset = ImageFolder(root=PATH, transform=val_transforms)\n",
    "val_dataloader = DataLoader(val_dataset, batch_size=32, shuffle=False)"
   ]
  },
  {
   "cell_type": "code",
   "execution_count": 8,
   "metadata": {},
   "outputs": [],
   "source": [
    "# modeling\n",
    "class_cnt = len(train_dataset.classes)\n",
    "model = nn.Sequential(\n",
    "    # Features\n",
    "    nn.Conv2d(in_channels=3, out_channels=16, kernel_size=3),\n",
    "    nn.ReLU(),\n",
    "    nn.MaxPool2d(kernel_size=2, stride=2),\n",
    "    nn.Conv2d(in_channels=16, out_channels=32, kernel_size=3),\n",
    "    nn.ReLU(),\n",
    "    nn.MaxPool2d(kernel_size=2, stride=2),\n",
    "    nn.Conv2d(in_channels=32, out_channels=64, kernel_size=3),\n",
    "    nn.ReLU(),\n",
    "    nn.Dropout(0.5),\n",
    "    nn.MaxPool2d(kernel_size=2, stride=2),\n",
    "    nn.Conv2d(in_channels=64, out_channels=64, kernel_size=3),\n",
    "    nn.ReLU(),\n",
    "    nn.MaxPool2d(kernel_size=2, stride=2),\n",
    "    nn.Conv2d(in_channels=64, out_channels=64, kernel_size=3),\n",
    "    nn.ReLU(),\n",
    "    nn.MaxPool2d(kernel_size=2, stride=2),\n",
    "\n",
    "    # classifier\n",
    "    nn.Flatten(),\n",
    "    nn.Dropout(0.5),\n",
    "    nn.Linear(in_features=64*6*6, out_features=512),\n",
    "    nn.ReLU(inplace=True),\n",
    "    nn.Linear(in_features=512, out_features=class_cnt)).to(device)\n",
    "\n",
    "optimizer = optim.Adam(model.parameters())\n",
    "loss_fn = nn.CrossEntropyLoss()"
   ]
  },
  {
   "cell_type": "code",
   "execution_count": 9,
   "metadata": {},
   "outputs": [],
   "source": [
    "def validation(model, loader):\n",
    "    loss_num = loss_denom = 0.0\n",
    "    model.eval()\n",
    "    with torch.no_grad():\n",
    "        for inputs, labels in loader:\n",
    "            outputs = model(inputs.to(device))\n",
    "            loss_num += loss_fn(outputs, labels.to(device))\n",
    "            loss_denom += 1\n",
    "\n",
    "    return loss_num/loss_denom"
   ]
  },
  {
   "cell_type": "code",
   "execution_count": 12,
   "metadata": {},
   "outputs": [
    {
     "name": "stderr",
     "output_type": "stream",
     "text": [
      "Epoch: 1, tloss: 0.5449950098991394, vloss: 0.780232, : 100%|██████████| 14/14 [00:02<00:00,  5.01it/s]\n",
      "Epoch: 2, tloss: 0.9308778643608093, vloss: 0.759767, Improvement found, counter reset to 0: 100%|██████████| 14/14 [00:02<00:00,  5.91it/s]\n",
      "Epoch: 3, tloss: 1.3093557357788086, vloss: 0.820800, No improvement in the last 1 epochs: 100%|██████████| 14/14 [00:02<00:00,  5.57it/s]\n",
      "Epoch: 4, tloss: 0.30158838629722595, vloss: 0.774938, No improvement in the last 2 epochs: 100%|██████████| 14/14 [00:02<00:00,  5.26it/s]\n",
      "Epoch: 5, tloss: 0.35183247923851013, vloss: 0.735944, Improvement found, counter reset to 0: 100%|██████████| 14/14 [00:02<00:00,  5.64it/s]\n",
      "Epoch: 6, tloss: 0.8285929560661316, vloss: 0.726671, Improvement found, counter reset to 0: 100%|██████████| 14/14 [00:02<00:00,  5.48it/s]\n",
      "Epoch: 7, tloss: 1.3088037967681885, vloss: 0.760502, No improvement in the last 1 epochs: 100%|██████████| 14/14 [00:02<00:00,  5.60it/s]\n",
      "Epoch: 8, tloss: 0.6994555592536926, vloss: 0.751191, No improvement in the last 2 epochs: 100%|██████████| 14/14 [00:02<00:00,  5.87it/s]\n",
      "Epoch: 9, tloss: 0.3946629762649536, vloss: 0.735570, No improvement in the last 3 epochs: 100%|██████████| 14/14 [00:02<00:00,  5.96it/s]\n",
      "Epoch: 10, tloss: 0.6791722178459167, vloss: 0.732567, No improvement in the last 4 epochs: 100%|██████████| 14/14 [00:02<00:00,  5.96it/s]\n",
      "Epoch: 11, tloss: 0.5061731338500977, vloss: 0.764300, Early stopping triggered after {self.counter} epochs: 100%|██████████| 14/14 [00:02<00:00,  5.95it/s]\n"
     ]
    }
   ],
   "source": [
    "BATCH_SIZE = 16\n",
    "es = EarlyStopping()\n",
    "\n",
    "epoch = 0\n",
    "done = False\n",
    "while epoch < 1000 and not done:\n",
    "    epoch += 1\n",
    "    steps = list(enumerate(train_dataloader))\n",
    "    pbar = tqdm(steps)\n",
    "    model.train()\n",
    "    for i, (x_batch, y_batch) in pbar:\n",
    "        y_batch_pred = model(x_batch.to(device))\n",
    "        loss = loss_fn(y_batch_pred, y_batch.to(device))\n",
    "        optimizer.zero_grad()\n",
    "        loss.backward()\n",
    "        optimizer.step()\n",
    "\n",
    "        loss, current = loss.item(), (i+1)* len(x_batch)\n",
    "        if i == len(steps) - 1:\n",
    "            model.eval()\n",
    "            vloss = validation(model, val_dataloader)\n",
    "            if es(model, vloss):\n",
    "                done = True\n",
    "            pbar.set_description(\n",
    "                f\"Epoch: {epoch}, tloss: {loss}, vloss: {vloss:>7f}, {es.status}\"\n",
    "            )\n",
    "        else:\n",
    "            pbar.set_description(\n",
    "                f\"Epoch: {epoch}, tloss: {loss:}\"\n",
    "            )"
   ]
  },
  {
   "cell_type": "code",
   "execution_count": 14,
   "metadata": {},
   "outputs": [
    {
     "name": "stdout",
     "output_type": "stream",
     "text": [
      "Accuracy: 0.6935866983372921\n"
     ]
    }
   ],
   "source": [
    "# validation\n",
    "model.eval()\n",
    "preds = []\n",
    "targets = []\n",
    "with torch.no_grad():\n",
    "    for inputs, labels in val_dataloader:\n",
    "        outputs = model(inputs.to(device))\n",
    "        _, predictions = torch.max(outputs, 1)\n",
    "        preds.extend(predictions.cpu().numpy())\n",
    "        targets.extend(labels.cpu().numpy())\n",
    "\n",
    "correct = accuracy_score(targets, preds)\n",
    "print(f\"Accuracy: {correct}\")"
   ]
  },
  {
   "cell_type": "code",
   "execution_count": null,
   "metadata": {},
   "outputs": [],
   "source": []
  }
 ],
 "metadata": {
  "kernelspec": {
   "display_name": "torch_new_venv",
   "language": "python",
   "name": "python3"
  },
  "language_info": {
   "codemirror_mode": {
    "name": "ipython",
    "version": 3
   },
   "file_extension": ".py",
   "mimetype": "text/x-python",
   "name": "python",
   "nbconvert_exporter": "python",
   "pygments_lexer": "ipython3",
   "version": "3.10.12"
  }
 },
 "nbformat": 4,
 "nbformat_minor": 2
}
